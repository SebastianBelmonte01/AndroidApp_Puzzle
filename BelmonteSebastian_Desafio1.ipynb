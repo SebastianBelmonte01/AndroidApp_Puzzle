{
  "nbformat": 4,
  "nbformat_minor": 0,
  "metadata": {
    "colab": {
      "provenance": [],
      "collapsed_sections": [],
      "include_colab_link": true
    },
    "kernelspec": {
      "display_name": "Python 3",
      "language": "python",
      "name": "python3"
    },
    "accelerator": "GPU",
    "widgets": {
      "application/vnd.jupyter.widget-state+json": {
        "6c7c92925baa403ba59a254a3b44040b": {
          "model_module": "@jupyter-widgets/controls",
          "model_name": "HBoxModel",
          "model_module_version": "1.5.0",
          "state": {
            "_dom_classes": [],
            "_model_module": "@jupyter-widgets/controls",
            "_model_module_version": "1.5.0",
            "_model_name": "HBoxModel",
            "_view_count": null,
            "_view_module": "@jupyter-widgets/controls",
            "_view_module_version": "1.5.0",
            "_view_name": "HBoxView",
            "box_style": "",
            "children": [
              "IPY_MODEL_a36bd24734c64158a92f7322a9667488",
              "IPY_MODEL_ec2ee7e6a55f46598508c1816e84e605",
              "IPY_MODEL_b77f535341544badaa2be1cfc072534f"
            ],
            "layout": "IPY_MODEL_0fa6c8b9b09b4ea58cb4cec9a3eef828"
          }
        },
        "a36bd24734c64158a92f7322a9667488": {
          "model_module": "@jupyter-widgets/controls",
          "model_name": "HTMLModel",
          "model_module_version": "1.5.0",
          "state": {
            "_dom_classes": [],
            "_model_module": "@jupyter-widgets/controls",
            "_model_module_version": "1.5.0",
            "_model_name": "HTMLModel",
            "_view_count": null,
            "_view_module": "@jupyter-widgets/controls",
            "_view_module_version": "1.5.0",
            "_view_name": "HTMLView",
            "description": "",
            "description_tooltip": null,
            "layout": "IPY_MODEL_9ffc6b4ff2f54e4b8898ab8cabab9105",
            "placeholder": "​",
            "style": "IPY_MODEL_82bdd918bf33482fb961ce1d07434b57",
            "value": "Dl Completed...: 100%"
          }
        },
        "ec2ee7e6a55f46598508c1816e84e605": {
          "model_module": "@jupyter-widgets/controls",
          "model_name": "FloatProgressModel",
          "model_module_version": "1.5.0",
          "state": {
            "_dom_classes": [],
            "_model_module": "@jupyter-widgets/controls",
            "_model_module_version": "1.5.0",
            "_model_name": "FloatProgressModel",
            "_view_count": null,
            "_view_module": "@jupyter-widgets/controls",
            "_view_module_version": "1.5.0",
            "_view_name": "ProgressView",
            "bar_style": "success",
            "description": "",
            "description_tooltip": null,
            "layout": "IPY_MODEL_e60063866be04091b3d5a1df13a9f00d",
            "max": 1,
            "min": 0,
            "orientation": "horizontal",
            "style": "IPY_MODEL_0db697cfbb1f4af780a9646e79463aa4",
            "value": 1
          }
        },
        "b77f535341544badaa2be1cfc072534f": {
          "model_module": "@jupyter-widgets/controls",
          "model_name": "HTMLModel",
          "model_module_version": "1.5.0",
          "state": {
            "_dom_classes": [],
            "_model_module": "@jupyter-widgets/controls",
            "_model_module_version": "1.5.0",
            "_model_name": "HTMLModel",
            "_view_count": null,
            "_view_module": "@jupyter-widgets/controls",
            "_view_module_version": "1.5.0",
            "_view_name": "HTMLView",
            "description": "",
            "description_tooltip": null,
            "layout": "IPY_MODEL_aa223f9a96594a7da5c63bbc068075a9",
            "placeholder": "​",
            "style": "IPY_MODEL_714b8697c2334e17b4b814f77287b91d",
            "value": " 1/1 [00:22&lt;00:00, 17.58s/ url]"
          }
        },
        "0fa6c8b9b09b4ea58cb4cec9a3eef828": {
          "model_module": "@jupyter-widgets/base",
          "model_name": "LayoutModel",
          "model_module_version": "1.2.0",
          "state": {
            "_model_module": "@jupyter-widgets/base",
            "_model_module_version": "1.2.0",
            "_model_name": "LayoutModel",
            "_view_count": null,
            "_view_module": "@jupyter-widgets/base",
            "_view_module_version": "1.2.0",
            "_view_name": "LayoutView",
            "align_content": null,
            "align_items": null,
            "align_self": null,
            "border": null,
            "bottom": null,
            "display": null,
            "flex": null,
            "flex_flow": null,
            "grid_area": null,
            "grid_auto_columns": null,
            "grid_auto_flow": null,
            "grid_auto_rows": null,
            "grid_column": null,
            "grid_gap": null,
            "grid_row": null,
            "grid_template_areas": null,
            "grid_template_columns": null,
            "grid_template_rows": null,
            "height": null,
            "justify_content": null,
            "justify_items": null,
            "left": null,
            "margin": null,
            "max_height": null,
            "max_width": null,
            "min_height": null,
            "min_width": null,
            "object_fit": null,
            "object_position": null,
            "order": null,
            "overflow": null,
            "overflow_x": null,
            "overflow_y": null,
            "padding": null,
            "right": null,
            "top": null,
            "visibility": null,
            "width": null
          }
        },
        "9ffc6b4ff2f54e4b8898ab8cabab9105": {
          "model_module": "@jupyter-widgets/base",
          "model_name": "LayoutModel",
          "model_module_version": "1.2.0",
          "state": {
            "_model_module": "@jupyter-widgets/base",
            "_model_module_version": "1.2.0",
            "_model_name": "LayoutModel",
            "_view_count": null,
            "_view_module": "@jupyter-widgets/base",
            "_view_module_version": "1.2.0",
            "_view_name": "LayoutView",
            "align_content": null,
            "align_items": null,
            "align_self": null,
            "border": null,
            "bottom": null,
            "display": null,
            "flex": null,
            "flex_flow": null,
            "grid_area": null,
            "grid_auto_columns": null,
            "grid_auto_flow": null,
            "grid_auto_rows": null,
            "grid_column": null,
            "grid_gap": null,
            "grid_row": null,
            "grid_template_areas": null,
            "grid_template_columns": null,
            "grid_template_rows": null,
            "height": null,
            "justify_content": null,
            "justify_items": null,
            "left": null,
            "margin": null,
            "max_height": null,
            "max_width": null,
            "min_height": null,
            "min_width": null,
            "object_fit": null,
            "object_position": null,
            "order": null,
            "overflow": null,
            "overflow_x": null,
            "overflow_y": null,
            "padding": null,
            "right": null,
            "top": null,
            "visibility": null,
            "width": null
          }
        },
        "82bdd918bf33482fb961ce1d07434b57": {
          "model_module": "@jupyter-widgets/controls",
          "model_name": "DescriptionStyleModel",
          "model_module_version": "1.5.0",
          "state": {
            "_model_module": "@jupyter-widgets/controls",
            "_model_module_version": "1.5.0",
            "_model_name": "DescriptionStyleModel",
            "_view_count": null,
            "_view_module": "@jupyter-widgets/base",
            "_view_module_version": "1.2.0",
            "_view_name": "StyleView",
            "description_width": ""
          }
        },
        "e60063866be04091b3d5a1df13a9f00d": {
          "model_module": "@jupyter-widgets/base",
          "model_name": "LayoutModel",
          "model_module_version": "1.2.0",
          "state": {
            "_model_module": "@jupyter-widgets/base",
            "_model_module_version": "1.2.0",
            "_model_name": "LayoutModel",
            "_view_count": null,
            "_view_module": "@jupyter-widgets/base",
            "_view_module_version": "1.2.0",
            "_view_name": "LayoutView",
            "align_content": null,
            "align_items": null,
            "align_self": null,
            "border": null,
            "bottom": null,
            "display": null,
            "flex": null,
            "flex_flow": null,
            "grid_area": null,
            "grid_auto_columns": null,
            "grid_auto_flow": null,
            "grid_auto_rows": null,
            "grid_column": null,
            "grid_gap": null,
            "grid_row": null,
            "grid_template_areas": null,
            "grid_template_columns": null,
            "grid_template_rows": null,
            "height": null,
            "justify_content": null,
            "justify_items": null,
            "left": null,
            "margin": null,
            "max_height": null,
            "max_width": null,
            "min_height": null,
            "min_width": null,
            "object_fit": null,
            "object_position": null,
            "order": null,
            "overflow": null,
            "overflow_x": null,
            "overflow_y": null,
            "padding": null,
            "right": null,
            "top": null,
            "visibility": null,
            "width": "20px"
          }
        },
        "0db697cfbb1f4af780a9646e79463aa4": {
          "model_module": "@jupyter-widgets/controls",
          "model_name": "ProgressStyleModel",
          "model_module_version": "1.5.0",
          "state": {
            "_model_module": "@jupyter-widgets/controls",
            "_model_module_version": "1.5.0",
            "_model_name": "ProgressStyleModel",
            "_view_count": null,
            "_view_module": "@jupyter-widgets/base",
            "_view_module_version": "1.2.0",
            "_view_name": "StyleView",
            "bar_color": null,
            "description_width": ""
          }
        },
        "aa223f9a96594a7da5c63bbc068075a9": {
          "model_module": "@jupyter-widgets/base",
          "model_name": "LayoutModel",
          "model_module_version": "1.2.0",
          "state": {
            "_model_module": "@jupyter-widgets/base",
            "_model_module_version": "1.2.0",
            "_model_name": "LayoutModel",
            "_view_count": null,
            "_view_module": "@jupyter-widgets/base",
            "_view_module_version": "1.2.0",
            "_view_name": "LayoutView",
            "align_content": null,
            "align_items": null,
            "align_self": null,
            "border": null,
            "bottom": null,
            "display": null,
            "flex": null,
            "flex_flow": null,
            "grid_area": null,
            "grid_auto_columns": null,
            "grid_auto_flow": null,
            "grid_auto_rows": null,
            "grid_column": null,
            "grid_gap": null,
            "grid_row": null,
            "grid_template_areas": null,
            "grid_template_columns": null,
            "grid_template_rows": null,
            "height": null,
            "justify_content": null,
            "justify_items": null,
            "left": null,
            "margin": null,
            "max_height": null,
            "max_width": null,
            "min_height": null,
            "min_width": null,
            "object_fit": null,
            "object_position": null,
            "order": null,
            "overflow": null,
            "overflow_x": null,
            "overflow_y": null,
            "padding": null,
            "right": null,
            "top": null,
            "visibility": null,
            "width": null
          }
        },
        "714b8697c2334e17b4b814f77287b91d": {
          "model_module": "@jupyter-widgets/controls",
          "model_name": "DescriptionStyleModel",
          "model_module_version": "1.5.0",
          "state": {
            "_model_module": "@jupyter-widgets/controls",
            "_model_module_version": "1.5.0",
            "_model_name": "DescriptionStyleModel",
            "_view_count": null,
            "_view_module": "@jupyter-widgets/base",
            "_view_module_version": "1.2.0",
            "_view_name": "StyleView",
            "description_width": ""
          }
        },
        "fcdfe4e3aa2a47e7ab139e32e6466e4e": {
          "model_module": "@jupyter-widgets/controls",
          "model_name": "HBoxModel",
          "model_module_version": "1.5.0",
          "state": {
            "_dom_classes": [],
            "_model_module": "@jupyter-widgets/controls",
            "_model_module_version": "1.5.0",
            "_model_name": "HBoxModel",
            "_view_count": null,
            "_view_module": "@jupyter-widgets/controls",
            "_view_module_version": "1.5.0",
            "_view_name": "HBoxView",
            "box_style": "",
            "children": [
              "IPY_MODEL_c2b95e8206584b04985da5453a6826b6",
              "IPY_MODEL_0a3e2b340a5044978b30876bbe20b922",
              "IPY_MODEL_de5032b639b44dd3b5ce532950e07511"
            ],
            "layout": "IPY_MODEL_3f39a0b3c8ba4112af47bad642ef4070"
          }
        },
        "c2b95e8206584b04985da5453a6826b6": {
          "model_module": "@jupyter-widgets/controls",
          "model_name": "HTMLModel",
          "model_module_version": "1.5.0",
          "state": {
            "_dom_classes": [],
            "_model_module": "@jupyter-widgets/controls",
            "_model_module_version": "1.5.0",
            "_model_name": "HTMLModel",
            "_view_count": null,
            "_view_module": "@jupyter-widgets/controls",
            "_view_module_version": "1.5.0",
            "_view_name": "HTMLView",
            "description": "",
            "description_tooltip": null,
            "layout": "IPY_MODEL_ae90f8bb1256411696eab5e7fe7fe7a6",
            "placeholder": "​",
            "style": "IPY_MODEL_851bd60778fb4406a0ba1da31eee691f",
            "value": "Dl Size...: 100%"
          }
        },
        "0a3e2b340a5044978b30876bbe20b922": {
          "model_module": "@jupyter-widgets/controls",
          "model_name": "FloatProgressModel",
          "model_module_version": "1.5.0",
          "state": {
            "_dom_classes": [],
            "_model_module": "@jupyter-widgets/controls",
            "_model_module_version": "1.5.0",
            "_model_name": "FloatProgressModel",
            "_view_count": null,
            "_view_module": "@jupyter-widgets/controls",
            "_view_module_version": "1.5.0",
            "_view_name": "ProgressView",
            "bar_style": "success",
            "description": "",
            "description_tooltip": null,
            "layout": "IPY_MODEL_222804245cd249a8b122dc8d0a7d5f91",
            "max": 1,
            "min": 0,
            "orientation": "horizontal",
            "style": "IPY_MODEL_e0120a9b3b5d40279a641e5c7fb3d3d3",
            "value": 1
          }
        },
        "de5032b639b44dd3b5ce532950e07511": {
          "model_module": "@jupyter-widgets/controls",
          "model_name": "HTMLModel",
          "model_module_version": "1.5.0",
          "state": {
            "_dom_classes": [],
            "_model_module": "@jupyter-widgets/controls",
            "_model_module_version": "1.5.0",
            "_model_name": "HTMLModel",
            "_view_count": null,
            "_view_module": "@jupyter-widgets/controls",
            "_view_module_version": "1.5.0",
            "_view_name": "HTMLView",
            "description": "",
            "description_tooltip": null,
            "layout": "IPY_MODEL_a59f259eccab4eef83b46b8bdd73e37c",
            "placeholder": "​",
            "style": "IPY_MODEL_1f59d887ccad4ad38b0b6d8f87b27477",
            "value": " 246/246 [00:22&lt;00:00, 18.72 MiB/s]"
          }
        },
        "3f39a0b3c8ba4112af47bad642ef4070": {
          "model_module": "@jupyter-widgets/base",
          "model_name": "LayoutModel",
          "model_module_version": "1.2.0",
          "state": {
            "_model_module": "@jupyter-widgets/base",
            "_model_module_version": "1.2.0",
            "_model_name": "LayoutModel",
            "_view_count": null,
            "_view_module": "@jupyter-widgets/base",
            "_view_module_version": "1.2.0",
            "_view_name": "LayoutView",
            "align_content": null,
            "align_items": null,
            "align_self": null,
            "border": null,
            "bottom": null,
            "display": null,
            "flex": null,
            "flex_flow": null,
            "grid_area": null,
            "grid_auto_columns": null,
            "grid_auto_flow": null,
            "grid_auto_rows": null,
            "grid_column": null,
            "grid_gap": null,
            "grid_row": null,
            "grid_template_areas": null,
            "grid_template_columns": null,
            "grid_template_rows": null,
            "height": null,
            "justify_content": null,
            "justify_items": null,
            "left": null,
            "margin": null,
            "max_height": null,
            "max_width": null,
            "min_height": null,
            "min_width": null,
            "object_fit": null,
            "object_position": null,
            "order": null,
            "overflow": null,
            "overflow_x": null,
            "overflow_y": null,
            "padding": null,
            "right": null,
            "top": null,
            "visibility": null,
            "width": null
          }
        },
        "ae90f8bb1256411696eab5e7fe7fe7a6": {
          "model_module": "@jupyter-widgets/base",
          "model_name": "LayoutModel",
          "model_module_version": "1.2.0",
          "state": {
            "_model_module": "@jupyter-widgets/base",
            "_model_module_version": "1.2.0",
            "_model_name": "LayoutModel",
            "_view_count": null,
            "_view_module": "@jupyter-widgets/base",
            "_view_module_version": "1.2.0",
            "_view_name": "LayoutView",
            "align_content": null,
            "align_items": null,
            "align_self": null,
            "border": null,
            "bottom": null,
            "display": null,
            "flex": null,
            "flex_flow": null,
            "grid_area": null,
            "grid_auto_columns": null,
            "grid_auto_flow": null,
            "grid_auto_rows": null,
            "grid_column": null,
            "grid_gap": null,
            "grid_row": null,
            "grid_template_areas": null,
            "grid_template_columns": null,
            "grid_template_rows": null,
            "height": null,
            "justify_content": null,
            "justify_items": null,
            "left": null,
            "margin": null,
            "max_height": null,
            "max_width": null,
            "min_height": null,
            "min_width": null,
            "object_fit": null,
            "object_position": null,
            "order": null,
            "overflow": null,
            "overflow_x": null,
            "overflow_y": null,
            "padding": null,
            "right": null,
            "top": null,
            "visibility": null,
            "width": null
          }
        },
        "851bd60778fb4406a0ba1da31eee691f": {
          "model_module": "@jupyter-widgets/controls",
          "model_name": "DescriptionStyleModel",
          "model_module_version": "1.5.0",
          "state": {
            "_model_module": "@jupyter-widgets/controls",
            "_model_module_version": "1.5.0",
            "_model_name": "DescriptionStyleModel",
            "_view_count": null,
            "_view_module": "@jupyter-widgets/base",
            "_view_module_version": "1.2.0",
            "_view_name": "StyleView",
            "description_width": ""
          }
        },
        "222804245cd249a8b122dc8d0a7d5f91": {
          "model_module": "@jupyter-widgets/base",
          "model_name": "LayoutModel",
          "model_module_version": "1.2.0",
          "state": {
            "_model_module": "@jupyter-widgets/base",
            "_model_module_version": "1.2.0",
            "_model_name": "LayoutModel",
            "_view_count": null,
            "_view_module": "@jupyter-widgets/base",
            "_view_module_version": "1.2.0",
            "_view_name": "LayoutView",
            "align_content": null,
            "align_items": null,
            "align_self": null,
            "border": null,
            "bottom": null,
            "display": null,
            "flex": null,
            "flex_flow": null,
            "grid_area": null,
            "grid_auto_columns": null,
            "grid_auto_flow": null,
            "grid_auto_rows": null,
            "grid_column": null,
            "grid_gap": null,
            "grid_row": null,
            "grid_template_areas": null,
            "grid_template_columns": null,
            "grid_template_rows": null,
            "height": null,
            "justify_content": null,
            "justify_items": null,
            "left": null,
            "margin": null,
            "max_height": null,
            "max_width": null,
            "min_height": null,
            "min_width": null,
            "object_fit": null,
            "object_position": null,
            "order": null,
            "overflow": null,
            "overflow_x": null,
            "overflow_y": null,
            "padding": null,
            "right": null,
            "top": null,
            "visibility": null,
            "width": "20px"
          }
        },
        "e0120a9b3b5d40279a641e5c7fb3d3d3": {
          "model_module": "@jupyter-widgets/controls",
          "model_name": "ProgressStyleModel",
          "model_module_version": "1.5.0",
          "state": {
            "_model_module": "@jupyter-widgets/controls",
            "_model_module_version": "1.5.0",
            "_model_name": "ProgressStyleModel",
            "_view_count": null,
            "_view_module": "@jupyter-widgets/base",
            "_view_module_version": "1.2.0",
            "_view_name": "StyleView",
            "bar_color": null,
            "description_width": ""
          }
        },
        "a59f259eccab4eef83b46b8bdd73e37c": {
          "model_module": "@jupyter-widgets/base",
          "model_name": "LayoutModel",
          "model_module_version": "1.2.0",
          "state": {
            "_model_module": "@jupyter-widgets/base",
            "_model_module_version": "1.2.0",
            "_model_name": "LayoutModel",
            "_view_count": null,
            "_view_module": "@jupyter-widgets/base",
            "_view_module_version": "1.2.0",
            "_view_name": "LayoutView",
            "align_content": null,
            "align_items": null,
            "align_self": null,
            "border": null,
            "bottom": null,
            "display": null,
            "flex": null,
            "flex_flow": null,
            "grid_area": null,
            "grid_auto_columns": null,
            "grid_auto_flow": null,
            "grid_auto_rows": null,
            "grid_column": null,
            "grid_gap": null,
            "grid_row": null,
            "grid_template_areas": null,
            "grid_template_columns": null,
            "grid_template_rows": null,
            "height": null,
            "justify_content": null,
            "justify_items": null,
            "left": null,
            "margin": null,
            "max_height": null,
            "max_width": null,
            "min_height": null,
            "min_width": null,
            "object_fit": null,
            "object_position": null,
            "order": null,
            "overflow": null,
            "overflow_x": null,
            "overflow_y": null,
            "padding": null,
            "right": null,
            "top": null,
            "visibility": null,
            "width": null
          }
        },
        "1f59d887ccad4ad38b0b6d8f87b27477": {
          "model_module": "@jupyter-widgets/controls",
          "model_name": "DescriptionStyleModel",
          "model_module_version": "1.5.0",
          "state": {
            "_model_module": "@jupyter-widgets/controls",
            "_model_module_version": "1.5.0",
            "_model_name": "DescriptionStyleModel",
            "_view_count": null,
            "_view_module": "@jupyter-widgets/base",
            "_view_module_version": "1.2.0",
            "_view_name": "StyleView",
            "description_width": ""
          }
        },
        "67c13e68ee0d47cba8f6575d1de86951": {
          "model_module": "@jupyter-widgets/controls",
          "model_name": "HBoxModel",
          "model_module_version": "1.5.0",
          "state": {
            "_dom_classes": [],
            "_model_module": "@jupyter-widgets/controls",
            "_model_module_version": "1.5.0",
            "_model_name": "HBoxModel",
            "_view_count": null,
            "_view_module": "@jupyter-widgets/controls",
            "_view_module_version": "1.5.0",
            "_view_name": "HBoxView",
            "box_style": "",
            "children": [
              "IPY_MODEL_07f545d5793047f3a2de447a60a3c15a",
              "IPY_MODEL_7e977a08b98142fb8442a1fb9a0b5975",
              "IPY_MODEL_b4e14bc79e6940e28b00a964b58b3161"
            ],
            "layout": "IPY_MODEL_37d48f70082748e1a55f7de1657a22d8"
          }
        },
        "07f545d5793047f3a2de447a60a3c15a": {
          "model_module": "@jupyter-widgets/controls",
          "model_name": "HTMLModel",
          "model_module_version": "1.5.0",
          "state": {
            "_dom_classes": [],
            "_model_module": "@jupyter-widgets/controls",
            "_model_module_version": "1.5.0",
            "_model_name": "HTMLModel",
            "_view_count": null,
            "_view_module": "@jupyter-widgets/controls",
            "_view_module_version": "1.5.0",
            "_view_name": "HTMLView",
            "description": "",
            "description_tooltip": null,
            "layout": "IPY_MODEL_31c3c76fa90a49378ac053586ae7494f",
            "placeholder": "​",
            "style": "IPY_MODEL_0bda46b5744a4a789bc71ad15b70bacb",
            "value": "Extraction completed...: 100%"
          }
        },
        "7e977a08b98142fb8442a1fb9a0b5975": {
          "model_module": "@jupyter-widgets/controls",
          "model_name": "FloatProgressModel",
          "model_module_version": "1.5.0",
          "state": {
            "_dom_classes": [],
            "_model_module": "@jupyter-widgets/controls",
            "_model_module_version": "1.5.0",
            "_model_name": "FloatProgressModel",
            "_view_count": null,
            "_view_module": "@jupyter-widgets/controls",
            "_view_module_version": "1.5.0",
            "_view_name": "ProgressView",
            "bar_style": "success",
            "description": "",
            "description_tooltip": null,
            "layout": "IPY_MODEL_6ba7550b9cd8492eb6559ce1f32d766e",
            "max": 1,
            "min": 0,
            "orientation": "horizontal",
            "style": "IPY_MODEL_321d83119ab6490f8ff655ad3b78e375",
            "value": 1
          }
        },
        "b4e14bc79e6940e28b00a964b58b3161": {
          "model_module": "@jupyter-widgets/controls",
          "model_name": "HTMLModel",
          "model_module_version": "1.5.0",
          "state": {
            "_dom_classes": [],
            "_model_module": "@jupyter-widgets/controls",
            "_model_module_version": "1.5.0",
            "_model_name": "HTMLModel",
            "_view_count": null,
            "_view_module": "@jupyter-widgets/controls",
            "_view_module_version": "1.5.0",
            "_view_name": "HTMLView",
            "description": "",
            "description_tooltip": null,
            "layout": "IPY_MODEL_8865d3b6847a4120bf3b32aa36c6b3e0",
            "placeholder": "​",
            "style": "IPY_MODEL_e176ace8be284c438dc35fe1c67934bb",
            "value": " 1/1 [00:22&lt;00:00, 22.07s/ file]"
          }
        },
        "37d48f70082748e1a55f7de1657a22d8": {
          "model_module": "@jupyter-widgets/base",
          "model_name": "LayoutModel",
          "model_module_version": "1.2.0",
          "state": {
            "_model_module": "@jupyter-widgets/base",
            "_model_module_version": "1.2.0",
            "_model_name": "LayoutModel",
            "_view_count": null,
            "_view_module": "@jupyter-widgets/base",
            "_view_module_version": "1.2.0",
            "_view_name": "LayoutView",
            "align_content": null,
            "align_items": null,
            "align_self": null,
            "border": null,
            "bottom": null,
            "display": null,
            "flex": null,
            "flex_flow": null,
            "grid_area": null,
            "grid_auto_columns": null,
            "grid_auto_flow": null,
            "grid_auto_rows": null,
            "grid_column": null,
            "grid_gap": null,
            "grid_row": null,
            "grid_template_areas": null,
            "grid_template_columns": null,
            "grid_template_rows": null,
            "height": null,
            "justify_content": null,
            "justify_items": null,
            "left": null,
            "margin": null,
            "max_height": null,
            "max_width": null,
            "min_height": null,
            "min_width": null,
            "object_fit": null,
            "object_position": null,
            "order": null,
            "overflow": null,
            "overflow_x": null,
            "overflow_y": null,
            "padding": null,
            "right": null,
            "top": null,
            "visibility": null,
            "width": null
          }
        },
        "31c3c76fa90a49378ac053586ae7494f": {
          "model_module": "@jupyter-widgets/base",
          "model_name": "LayoutModel",
          "model_module_version": "1.2.0",
          "state": {
            "_model_module": "@jupyter-widgets/base",
            "_model_module_version": "1.2.0",
            "_model_name": "LayoutModel",
            "_view_count": null,
            "_view_module": "@jupyter-widgets/base",
            "_view_module_version": "1.2.0",
            "_view_name": "LayoutView",
            "align_content": null,
            "align_items": null,
            "align_self": null,
            "border": null,
            "bottom": null,
            "display": null,
            "flex": null,
            "flex_flow": null,
            "grid_area": null,
            "grid_auto_columns": null,
            "grid_auto_flow": null,
            "grid_auto_rows": null,
            "grid_column": null,
            "grid_gap": null,
            "grid_row": null,
            "grid_template_areas": null,
            "grid_template_columns": null,
            "grid_template_rows": null,
            "height": null,
            "justify_content": null,
            "justify_items": null,
            "left": null,
            "margin": null,
            "max_height": null,
            "max_width": null,
            "min_height": null,
            "min_width": null,
            "object_fit": null,
            "object_position": null,
            "order": null,
            "overflow": null,
            "overflow_x": null,
            "overflow_y": null,
            "padding": null,
            "right": null,
            "top": null,
            "visibility": null,
            "width": null
          }
        },
        "0bda46b5744a4a789bc71ad15b70bacb": {
          "model_module": "@jupyter-widgets/controls",
          "model_name": "DescriptionStyleModel",
          "model_module_version": "1.5.0",
          "state": {
            "_model_module": "@jupyter-widgets/controls",
            "_model_module_version": "1.5.0",
            "_model_name": "DescriptionStyleModel",
            "_view_count": null,
            "_view_module": "@jupyter-widgets/base",
            "_view_module_version": "1.2.0",
            "_view_name": "StyleView",
            "description_width": ""
          }
        },
        "6ba7550b9cd8492eb6559ce1f32d766e": {
          "model_module": "@jupyter-widgets/base",
          "model_name": "LayoutModel",
          "model_module_version": "1.2.0",
          "state": {
            "_model_module": "@jupyter-widgets/base",
            "_model_module_version": "1.2.0",
            "_model_name": "LayoutModel",
            "_view_count": null,
            "_view_module": "@jupyter-widgets/base",
            "_view_module_version": "1.2.0",
            "_view_name": "LayoutView",
            "align_content": null,
            "align_items": null,
            "align_self": null,
            "border": null,
            "bottom": null,
            "display": null,
            "flex": null,
            "flex_flow": null,
            "grid_area": null,
            "grid_auto_columns": null,
            "grid_auto_flow": null,
            "grid_auto_rows": null,
            "grid_column": null,
            "grid_gap": null,
            "grid_row": null,
            "grid_template_areas": null,
            "grid_template_columns": null,
            "grid_template_rows": null,
            "height": null,
            "justify_content": null,
            "justify_items": null,
            "left": null,
            "margin": null,
            "max_height": null,
            "max_width": null,
            "min_height": null,
            "min_width": null,
            "object_fit": null,
            "object_position": null,
            "order": null,
            "overflow": null,
            "overflow_x": null,
            "overflow_y": null,
            "padding": null,
            "right": null,
            "top": null,
            "visibility": null,
            "width": "20px"
          }
        },
        "321d83119ab6490f8ff655ad3b78e375": {
          "model_module": "@jupyter-widgets/controls",
          "model_name": "ProgressStyleModel",
          "model_module_version": "1.5.0",
          "state": {
            "_model_module": "@jupyter-widgets/controls",
            "_model_module_version": "1.5.0",
            "_model_name": "ProgressStyleModel",
            "_view_count": null,
            "_view_module": "@jupyter-widgets/base",
            "_view_module_version": "1.2.0",
            "_view_name": "StyleView",
            "bar_color": null,
            "description_width": ""
          }
        },
        "8865d3b6847a4120bf3b32aa36c6b3e0": {
          "model_module": "@jupyter-widgets/base",
          "model_name": "LayoutModel",
          "model_module_version": "1.2.0",
          "state": {
            "_model_module": "@jupyter-widgets/base",
            "_model_module_version": "1.2.0",
            "_model_name": "LayoutModel",
            "_view_count": null,
            "_view_module": "@jupyter-widgets/base",
            "_view_module_version": "1.2.0",
            "_view_name": "LayoutView",
            "align_content": null,
            "align_items": null,
            "align_self": null,
            "border": null,
            "bottom": null,
            "display": null,
            "flex": null,
            "flex_flow": null,
            "grid_area": null,
            "grid_auto_columns": null,
            "grid_auto_flow": null,
            "grid_auto_rows": null,
            "grid_column": null,
            "grid_gap": null,
            "grid_row": null,
            "grid_template_areas": null,
            "grid_template_columns": null,
            "grid_template_rows": null,
            "height": null,
            "justify_content": null,
            "justify_items": null,
            "left": null,
            "margin": null,
            "max_height": null,
            "max_width": null,
            "min_height": null,
            "min_width": null,
            "object_fit": null,
            "object_position": null,
            "order": null,
            "overflow": null,
            "overflow_x": null,
            "overflow_y": null,
            "padding": null,
            "right": null,
            "top": null,
            "visibility": null,
            "width": null
          }
        },
        "e176ace8be284c438dc35fe1c67934bb": {
          "model_module": "@jupyter-widgets/controls",
          "model_name": "DescriptionStyleModel",
          "model_module_version": "1.5.0",
          "state": {
            "_model_module": "@jupyter-widgets/controls",
            "_model_module_version": "1.5.0",
            "_model_name": "DescriptionStyleModel",
            "_view_count": null,
            "_view_module": "@jupyter-widgets/base",
            "_view_module_version": "1.2.0",
            "_view_name": "StyleView",
            "description_width": ""
          }
        },
        "2dab7d312d4541758faa2edddd574244": {
          "model_module": "@jupyter-widgets/controls",
          "model_name": "HBoxModel",
          "model_module_version": "1.5.0",
          "state": {
            "_dom_classes": [],
            "_model_module": "@jupyter-widgets/controls",
            "_model_module_version": "1.5.0",
            "_model_name": "HBoxModel",
            "_view_count": null,
            "_view_module": "@jupyter-widgets/controls",
            "_view_module_version": "1.5.0",
            "_view_name": "HBoxView",
            "box_style": "",
            "children": [
              "IPY_MODEL_5becd5fd03f04ddab4a92fdd2094b87d",
              "IPY_MODEL_bead11c8000147959441090817657bca",
              "IPY_MODEL_486416f4b85647ffb0f3794f5891e0b8"
            ],
            "layout": "IPY_MODEL_8dda48eb46244f1eb81bc432d4036eec"
          }
        },
        "5becd5fd03f04ddab4a92fdd2094b87d": {
          "model_module": "@jupyter-widgets/controls",
          "model_name": "HTMLModel",
          "model_module_version": "1.5.0",
          "state": {
            "_dom_classes": [],
            "_model_module": "@jupyter-widgets/controls",
            "_model_module_version": "1.5.0",
            "_model_name": "HTMLModel",
            "_view_count": null,
            "_view_module": "@jupyter-widgets/controls",
            "_view_module_version": "1.5.0",
            "_view_name": "HTMLView",
            "description": "",
            "description_tooltip": null,
            "layout": "IPY_MODEL_22395e216732448bb22354390784e530",
            "placeholder": "​",
            "style": "IPY_MODEL_48fa595a1c16475dbed89c1eb45d3d78",
            "value": "Generating splits...: 100%"
          }
        },
        "bead11c8000147959441090817657bca": {
          "model_module": "@jupyter-widgets/controls",
          "model_name": "FloatProgressModel",
          "model_module_version": "1.5.0",
          "state": {
            "_dom_classes": [],
            "_model_module": "@jupyter-widgets/controls",
            "_model_module_version": "1.5.0",
            "_model_name": "FloatProgressModel",
            "_view_count": null,
            "_view_module": "@jupyter-widgets/controls",
            "_view_module_version": "1.5.0",
            "_view_name": "ProgressView",
            "bar_style": "",
            "description": "",
            "description_tooltip": null,
            "layout": "IPY_MODEL_bc84a47d6fb9470aa7346b8b20e69e14",
            "max": 1,
            "min": 0,
            "orientation": "horizontal",
            "style": "IPY_MODEL_210f169b53564deba53d7e29ff53779c",
            "value": 1
          }
        },
        "486416f4b85647ffb0f3794f5891e0b8": {
          "model_module": "@jupyter-widgets/controls",
          "model_name": "HTMLModel",
          "model_module_version": "1.5.0",
          "state": {
            "_dom_classes": [],
            "_model_module": "@jupyter-widgets/controls",
            "_model_module_version": "1.5.0",
            "_model_name": "HTMLModel",
            "_view_count": null,
            "_view_module": "@jupyter-widgets/controls",
            "_view_module_version": "1.5.0",
            "_view_name": "HTMLView",
            "description": "",
            "description_tooltip": null,
            "layout": "IPY_MODEL_3de8b0862af74e5a9afe1f1fdd63b587",
            "placeholder": "​",
            "style": "IPY_MODEL_ba470ae787504038b95befcaab6e5d0b",
            "value": " 1/1 [00:43&lt;00:00, 43.98s/ splits]"
          }
        },
        "8dda48eb46244f1eb81bc432d4036eec": {
          "model_module": "@jupyter-widgets/base",
          "model_name": "LayoutModel",
          "model_module_version": "1.2.0",
          "state": {
            "_model_module": "@jupyter-widgets/base",
            "_model_module_version": "1.2.0",
            "_model_name": "LayoutModel",
            "_view_count": null,
            "_view_module": "@jupyter-widgets/base",
            "_view_module_version": "1.2.0",
            "_view_name": "LayoutView",
            "align_content": null,
            "align_items": null,
            "align_self": null,
            "border": null,
            "bottom": null,
            "display": null,
            "flex": null,
            "flex_flow": null,
            "grid_area": null,
            "grid_auto_columns": null,
            "grid_auto_flow": null,
            "grid_auto_rows": null,
            "grid_column": null,
            "grid_gap": null,
            "grid_row": null,
            "grid_template_areas": null,
            "grid_template_columns": null,
            "grid_template_rows": null,
            "height": null,
            "justify_content": null,
            "justify_items": null,
            "left": null,
            "margin": null,
            "max_height": null,
            "max_width": null,
            "min_height": null,
            "min_width": null,
            "object_fit": null,
            "object_position": null,
            "order": null,
            "overflow": null,
            "overflow_x": null,
            "overflow_y": null,
            "padding": null,
            "right": null,
            "top": null,
            "visibility": "hidden",
            "width": null
          }
        },
        "22395e216732448bb22354390784e530": {
          "model_module": "@jupyter-widgets/base",
          "model_name": "LayoutModel",
          "model_module_version": "1.2.0",
          "state": {
            "_model_module": "@jupyter-widgets/base",
            "_model_module_version": "1.2.0",
            "_model_name": "LayoutModel",
            "_view_count": null,
            "_view_module": "@jupyter-widgets/base",
            "_view_module_version": "1.2.0",
            "_view_name": "LayoutView",
            "align_content": null,
            "align_items": null,
            "align_self": null,
            "border": null,
            "bottom": null,
            "display": null,
            "flex": null,
            "flex_flow": null,
            "grid_area": null,
            "grid_auto_columns": null,
            "grid_auto_flow": null,
            "grid_auto_rows": null,
            "grid_column": null,
            "grid_gap": null,
            "grid_row": null,
            "grid_template_areas": null,
            "grid_template_columns": null,
            "grid_template_rows": null,
            "height": null,
            "justify_content": null,
            "justify_items": null,
            "left": null,
            "margin": null,
            "max_height": null,
            "max_width": null,
            "min_height": null,
            "min_width": null,
            "object_fit": null,
            "object_position": null,
            "order": null,
            "overflow": null,
            "overflow_x": null,
            "overflow_y": null,
            "padding": null,
            "right": null,
            "top": null,
            "visibility": null,
            "width": null
          }
        },
        "48fa595a1c16475dbed89c1eb45d3d78": {
          "model_module": "@jupyter-widgets/controls",
          "model_name": "DescriptionStyleModel",
          "model_module_version": "1.5.0",
          "state": {
            "_model_module": "@jupyter-widgets/controls",
            "_model_module_version": "1.5.0",
            "_model_name": "DescriptionStyleModel",
            "_view_count": null,
            "_view_module": "@jupyter-widgets/base",
            "_view_module_version": "1.2.0",
            "_view_name": "StyleView",
            "description_width": ""
          }
        },
        "bc84a47d6fb9470aa7346b8b20e69e14": {
          "model_module": "@jupyter-widgets/base",
          "model_name": "LayoutModel",
          "model_module_version": "1.2.0",
          "state": {
            "_model_module": "@jupyter-widgets/base",
            "_model_module_version": "1.2.0",
            "_model_name": "LayoutModel",
            "_view_count": null,
            "_view_module": "@jupyter-widgets/base",
            "_view_module_version": "1.2.0",
            "_view_name": "LayoutView",
            "align_content": null,
            "align_items": null,
            "align_self": null,
            "border": null,
            "bottom": null,
            "display": null,
            "flex": null,
            "flex_flow": null,
            "grid_area": null,
            "grid_auto_columns": null,
            "grid_auto_flow": null,
            "grid_auto_rows": null,
            "grid_column": null,
            "grid_gap": null,
            "grid_row": null,
            "grid_template_areas": null,
            "grid_template_columns": null,
            "grid_template_rows": null,
            "height": null,
            "justify_content": null,
            "justify_items": null,
            "left": null,
            "margin": null,
            "max_height": null,
            "max_width": null,
            "min_height": null,
            "min_width": null,
            "object_fit": null,
            "object_position": null,
            "order": null,
            "overflow": null,
            "overflow_x": null,
            "overflow_y": null,
            "padding": null,
            "right": null,
            "top": null,
            "visibility": null,
            "width": null
          }
        },
        "210f169b53564deba53d7e29ff53779c": {
          "model_module": "@jupyter-widgets/controls",
          "model_name": "ProgressStyleModel",
          "model_module_version": "1.5.0",
          "state": {
            "_model_module": "@jupyter-widgets/controls",
            "_model_module_version": "1.5.0",
            "_model_name": "ProgressStyleModel",
            "_view_count": null,
            "_view_module": "@jupyter-widgets/base",
            "_view_module_version": "1.2.0",
            "_view_name": "StyleView",
            "bar_color": null,
            "description_width": ""
          }
        },
        "3de8b0862af74e5a9afe1f1fdd63b587": {
          "model_module": "@jupyter-widgets/base",
          "model_name": "LayoutModel",
          "model_module_version": "1.2.0",
          "state": {
            "_model_module": "@jupyter-widgets/base",
            "_model_module_version": "1.2.0",
            "_model_name": "LayoutModel",
            "_view_count": null,
            "_view_module": "@jupyter-widgets/base",
            "_view_module_version": "1.2.0",
            "_view_name": "LayoutView",
            "align_content": null,
            "align_items": null,
            "align_self": null,
            "border": null,
            "bottom": null,
            "display": null,
            "flex": null,
            "flex_flow": null,
            "grid_area": null,
            "grid_auto_columns": null,
            "grid_auto_flow": null,
            "grid_auto_rows": null,
            "grid_column": null,
            "grid_gap": null,
            "grid_row": null,
            "grid_template_areas": null,
            "grid_template_columns": null,
            "grid_template_rows": null,
            "height": null,
            "justify_content": null,
            "justify_items": null,
            "left": null,
            "margin": null,
            "max_height": null,
            "max_width": null,
            "min_height": null,
            "min_width": null,
            "object_fit": null,
            "object_position": null,
            "order": null,
            "overflow": null,
            "overflow_x": null,
            "overflow_y": null,
            "padding": null,
            "right": null,
            "top": null,
            "visibility": null,
            "width": null
          }
        },
        "ba470ae787504038b95befcaab6e5d0b": {
          "model_module": "@jupyter-widgets/controls",
          "model_name": "DescriptionStyleModel",
          "model_module_version": "1.5.0",
          "state": {
            "_model_module": "@jupyter-widgets/controls",
            "_model_module_version": "1.5.0",
            "_model_name": "DescriptionStyleModel",
            "_view_count": null,
            "_view_module": "@jupyter-widgets/base",
            "_view_module_version": "1.2.0",
            "_view_name": "StyleView",
            "description_width": ""
          }
        },
        "8a44934abba546869de9c57bb227fcb2": {
          "model_module": "@jupyter-widgets/controls",
          "model_name": "HBoxModel",
          "model_module_version": "1.5.0",
          "state": {
            "_dom_classes": [],
            "_model_module": "@jupyter-widgets/controls",
            "_model_module_version": "1.5.0",
            "_model_name": "HBoxModel",
            "_view_count": null,
            "_view_module": "@jupyter-widgets/controls",
            "_view_module_version": "1.5.0",
            "_view_name": "HBoxView",
            "box_style": "",
            "children": [
              "IPY_MODEL_a1bd0e4b15a34435a9f49533fe5d73d6",
              "IPY_MODEL_f9894f87ba0947b0987eaddcbe18f7af",
              "IPY_MODEL_f835820d76874891b1e61e14881f6927"
            ],
            "layout": "IPY_MODEL_931e70fbd5cd4726bb0e05a67d3f879b"
          }
        },
        "a1bd0e4b15a34435a9f49533fe5d73d6": {
          "model_module": "@jupyter-widgets/controls",
          "model_name": "HTMLModel",
          "model_module_version": "1.5.0",
          "state": {
            "_dom_classes": [],
            "_model_module": "@jupyter-widgets/controls",
            "_model_module_version": "1.5.0",
            "_model_name": "HTMLModel",
            "_view_count": null,
            "_view_module": "@jupyter-widgets/controls",
            "_view_module_version": "1.5.0",
            "_view_name": "HTMLView",
            "description": "",
            "description_tooltip": null,
            "layout": "IPY_MODEL_c45cd405e17643779a479d1c4a2458a7",
            "placeholder": "​",
            "style": "IPY_MODEL_ef8fe076ee0c42049c84e66127f27833",
            "value": "Generating train examples...: 100%"
          }
        },
        "f9894f87ba0947b0987eaddcbe18f7af": {
          "model_module": "@jupyter-widgets/controls",
          "model_name": "FloatProgressModel",
          "model_module_version": "1.5.0",
          "state": {
            "_dom_classes": [],
            "_model_module": "@jupyter-widgets/controls",
            "_model_module_version": "1.5.0",
            "_model_name": "FloatProgressModel",
            "_view_count": null,
            "_view_module": "@jupyter-widgets/controls",
            "_view_module_version": "1.5.0",
            "_view_name": "ProgressView",
            "bar_style": "",
            "description": "",
            "description_tooltip": null,
            "layout": "IPY_MODEL_3aac7e5f47d84240b12b8b0c9af11746",
            "max": 5000,
            "min": 0,
            "orientation": "horizontal",
            "style": "IPY_MODEL_a9f623712cf6442094c0d5d5c7107c3c",
            "value": 5000
          }
        },
        "f835820d76874891b1e61e14881f6927": {
          "model_module": "@jupyter-widgets/controls",
          "model_name": "HTMLModel",
          "model_module_version": "1.5.0",
          "state": {
            "_dom_classes": [],
            "_model_module": "@jupyter-widgets/controls",
            "_model_module_version": "1.5.0",
            "_model_name": "HTMLModel",
            "_view_count": null,
            "_view_module": "@jupyter-widgets/controls",
            "_view_module_version": "1.5.0",
            "_view_name": "HTMLView",
            "description": "",
            "description_tooltip": null,
            "layout": "IPY_MODEL_dda86dc180f34ec8bb291c3b249d4be6",
            "placeholder": "​",
            "style": "IPY_MODEL_85bb09f5c8ea490db6adeafa901946c7",
            "value": " 4991/5000 [00:43&lt;00:00, 163.14 examples/s]"
          }
        },
        "931e70fbd5cd4726bb0e05a67d3f879b": {
          "model_module": "@jupyter-widgets/base",
          "model_name": "LayoutModel",
          "model_module_version": "1.2.0",
          "state": {
            "_model_module": "@jupyter-widgets/base",
            "_model_module_version": "1.2.0",
            "_model_name": "LayoutModel",
            "_view_count": null,
            "_view_module": "@jupyter-widgets/base",
            "_view_module_version": "1.2.0",
            "_view_name": "LayoutView",
            "align_content": null,
            "align_items": null,
            "align_self": null,
            "border": null,
            "bottom": null,
            "display": null,
            "flex": null,
            "flex_flow": null,
            "grid_area": null,
            "grid_auto_columns": null,
            "grid_auto_flow": null,
            "grid_auto_rows": null,
            "grid_column": null,
            "grid_gap": null,
            "grid_row": null,
            "grid_template_areas": null,
            "grid_template_columns": null,
            "grid_template_rows": null,
            "height": null,
            "justify_content": null,
            "justify_items": null,
            "left": null,
            "margin": null,
            "max_height": null,
            "max_width": null,
            "min_height": null,
            "min_width": null,
            "object_fit": null,
            "object_position": null,
            "order": null,
            "overflow": null,
            "overflow_x": null,
            "overflow_y": null,
            "padding": null,
            "right": null,
            "top": null,
            "visibility": "hidden",
            "width": null
          }
        },
        "c45cd405e17643779a479d1c4a2458a7": {
          "model_module": "@jupyter-widgets/base",
          "model_name": "LayoutModel",
          "model_module_version": "1.2.0",
          "state": {
            "_model_module": "@jupyter-widgets/base",
            "_model_module_version": "1.2.0",
            "_model_name": "LayoutModel",
            "_view_count": null,
            "_view_module": "@jupyter-widgets/base",
            "_view_module_version": "1.2.0",
            "_view_name": "LayoutView",
            "align_content": null,
            "align_items": null,
            "align_self": null,
            "border": null,
            "bottom": null,
            "display": null,
            "flex": null,
            "flex_flow": null,
            "grid_area": null,
            "grid_auto_columns": null,
            "grid_auto_flow": null,
            "grid_auto_rows": null,
            "grid_column": null,
            "grid_gap": null,
            "grid_row": null,
            "grid_template_areas": null,
            "grid_template_columns": null,
            "grid_template_rows": null,
            "height": null,
            "justify_content": null,
            "justify_items": null,
            "left": null,
            "margin": null,
            "max_height": null,
            "max_width": null,
            "min_height": null,
            "min_width": null,
            "object_fit": null,
            "object_position": null,
            "order": null,
            "overflow": null,
            "overflow_x": null,
            "overflow_y": null,
            "padding": null,
            "right": null,
            "top": null,
            "visibility": null,
            "width": null
          }
        },
        "ef8fe076ee0c42049c84e66127f27833": {
          "model_module": "@jupyter-widgets/controls",
          "model_name": "DescriptionStyleModel",
          "model_module_version": "1.5.0",
          "state": {
            "_model_module": "@jupyter-widgets/controls",
            "_model_module_version": "1.5.0",
            "_model_name": "DescriptionStyleModel",
            "_view_count": null,
            "_view_module": "@jupyter-widgets/base",
            "_view_module_version": "1.2.0",
            "_view_name": "StyleView",
            "description_width": ""
          }
        },
        "3aac7e5f47d84240b12b8b0c9af11746": {
          "model_module": "@jupyter-widgets/base",
          "model_name": "LayoutModel",
          "model_module_version": "1.2.0",
          "state": {
            "_model_module": "@jupyter-widgets/base",
            "_model_module_version": "1.2.0",
            "_model_name": "LayoutModel",
            "_view_count": null,
            "_view_module": "@jupyter-widgets/base",
            "_view_module_version": "1.2.0",
            "_view_name": "LayoutView",
            "align_content": null,
            "align_items": null,
            "align_self": null,
            "border": null,
            "bottom": null,
            "display": null,
            "flex": null,
            "flex_flow": null,
            "grid_area": null,
            "grid_auto_columns": null,
            "grid_auto_flow": null,
            "grid_auto_rows": null,
            "grid_column": null,
            "grid_gap": null,
            "grid_row": null,
            "grid_template_areas": null,
            "grid_template_columns": null,
            "grid_template_rows": null,
            "height": null,
            "justify_content": null,
            "justify_items": null,
            "left": null,
            "margin": null,
            "max_height": null,
            "max_width": null,
            "min_height": null,
            "min_width": null,
            "object_fit": null,
            "object_position": null,
            "order": null,
            "overflow": null,
            "overflow_x": null,
            "overflow_y": null,
            "padding": null,
            "right": null,
            "top": null,
            "visibility": null,
            "width": null
          }
        },
        "a9f623712cf6442094c0d5d5c7107c3c": {
          "model_module": "@jupyter-widgets/controls",
          "model_name": "ProgressStyleModel",
          "model_module_version": "1.5.0",
          "state": {
            "_model_module": "@jupyter-widgets/controls",
            "_model_module_version": "1.5.0",
            "_model_name": "ProgressStyleModel",
            "_view_count": null,
            "_view_module": "@jupyter-widgets/base",
            "_view_module_version": "1.2.0",
            "_view_name": "StyleView",
            "bar_color": null,
            "description_width": ""
          }
        },
        "dda86dc180f34ec8bb291c3b249d4be6": {
          "model_module": "@jupyter-widgets/base",
          "model_name": "LayoutModel",
          "model_module_version": "1.2.0",
          "state": {
            "_model_module": "@jupyter-widgets/base",
            "_model_module_version": "1.2.0",
            "_model_name": "LayoutModel",
            "_view_count": null,
            "_view_module": "@jupyter-widgets/base",
            "_view_module_version": "1.2.0",
            "_view_name": "LayoutView",
            "align_content": null,
            "align_items": null,
            "align_self": null,
            "border": null,
            "bottom": null,
            "display": null,
            "flex": null,
            "flex_flow": null,
            "grid_area": null,
            "grid_auto_columns": null,
            "grid_auto_flow": null,
            "grid_auto_rows": null,
            "grid_column": null,
            "grid_gap": null,
            "grid_row": null,
            "grid_template_areas": null,
            "grid_template_columns": null,
            "grid_template_rows": null,
            "height": null,
            "justify_content": null,
            "justify_items": null,
            "left": null,
            "margin": null,
            "max_height": null,
            "max_width": null,
            "min_height": null,
            "min_width": null,
            "object_fit": null,
            "object_position": null,
            "order": null,
            "overflow": null,
            "overflow_x": null,
            "overflow_y": null,
            "padding": null,
            "right": null,
            "top": null,
            "visibility": null,
            "width": null
          }
        },
        "85bb09f5c8ea490db6adeafa901946c7": {
          "model_module": "@jupyter-widgets/controls",
          "model_name": "DescriptionStyleModel",
          "model_module_version": "1.5.0",
          "state": {
            "_model_module": "@jupyter-widgets/controls",
            "_model_module_version": "1.5.0",
            "_model_name": "DescriptionStyleModel",
            "_view_count": null,
            "_view_module": "@jupyter-widgets/base",
            "_view_module_version": "1.2.0",
            "_view_name": "StyleView",
            "description_width": ""
          }
        },
        "c22478c2ee724f429898f6c91c8ee058": {
          "model_module": "@jupyter-widgets/controls",
          "model_name": "HBoxModel",
          "model_module_version": "1.5.0",
          "state": {
            "_dom_classes": [],
            "_model_module": "@jupyter-widgets/controls",
            "_model_module_version": "1.5.0",
            "_model_name": "HBoxModel",
            "_view_count": null,
            "_view_module": "@jupyter-widgets/controls",
            "_view_module_version": "1.5.0",
            "_view_name": "HBoxView",
            "box_style": "",
            "children": [
              "IPY_MODEL_edd20ec347a54977a87c5b840a5133fe",
              "IPY_MODEL_bc2920f8b6d04112a6a35efb9060ffd2",
              "IPY_MODEL_9b9c3c2df41a45a9a883739480793550"
            ],
            "layout": "IPY_MODEL_9d2ba51beecf4f018217ff576c2ef455"
          }
        },
        "edd20ec347a54977a87c5b840a5133fe": {
          "model_module": "@jupyter-widgets/controls",
          "model_name": "HTMLModel",
          "model_module_version": "1.5.0",
          "state": {
            "_dom_classes": [],
            "_model_module": "@jupyter-widgets/controls",
            "_model_module_version": "1.5.0",
            "_model_name": "HTMLModel",
            "_view_count": null,
            "_view_module": "@jupyter-widgets/controls",
            "_view_module_version": "1.5.0",
            "_view_name": "HTMLView",
            "description": "",
            "description_tooltip": null,
            "layout": "IPY_MODEL_0d0204867c34486396768db5e6a1938e",
            "placeholder": "​",
            "style": "IPY_MODEL_e6b5abb7ad41498c9d53a7df8b1b6562",
            "value": "Shuffling ~/tensorflow_datasets/colorectal_histology/2.0.0.incomplete43OPVV/colorectal_histology-train.tfrecord*...:  70%"
          }
        },
        "bc2920f8b6d04112a6a35efb9060ffd2": {
          "model_module": "@jupyter-widgets/controls",
          "model_name": "FloatProgressModel",
          "model_module_version": "1.5.0",
          "state": {
            "_dom_classes": [],
            "_model_module": "@jupyter-widgets/controls",
            "_model_module_version": "1.5.0",
            "_model_name": "FloatProgressModel",
            "_view_count": null,
            "_view_module": "@jupyter-widgets/controls",
            "_view_module_version": "1.5.0",
            "_view_name": "ProgressView",
            "bar_style": "",
            "description": "",
            "description_tooltip": null,
            "layout": "IPY_MODEL_d803aa82d4014eacb590579458bb4cee",
            "max": 5000,
            "min": 0,
            "orientation": "horizontal",
            "style": "IPY_MODEL_96e0544c780444b78251f1cde21a7a4f",
            "value": 5000
          }
        },
        "9b9c3c2df41a45a9a883739480793550": {
          "model_module": "@jupyter-widgets/controls",
          "model_name": "HTMLModel",
          "model_module_version": "1.5.0",
          "state": {
            "_dom_classes": [],
            "_model_module": "@jupyter-widgets/controls",
            "_model_module_version": "1.5.0",
            "_model_name": "HTMLModel",
            "_view_count": null,
            "_view_module": "@jupyter-widgets/controls",
            "_view_module_version": "1.5.0",
            "_view_name": "HTMLView",
            "description": "",
            "description_tooltip": null,
            "layout": "IPY_MODEL_12b0a38fa4d9476589cfdccb5912aa75",
            "placeholder": "​",
            "style": "IPY_MODEL_a6fb9f55ec5b4b09a34e1ef5f58097c2",
            "value": " 3486/5000 [00:00&lt;00:00, 18335.70 examples/s]"
          }
        },
        "9d2ba51beecf4f018217ff576c2ef455": {
          "model_module": "@jupyter-widgets/base",
          "model_name": "LayoutModel",
          "model_module_version": "1.2.0",
          "state": {
            "_model_module": "@jupyter-widgets/base",
            "_model_module_version": "1.2.0",
            "_model_name": "LayoutModel",
            "_view_count": null,
            "_view_module": "@jupyter-widgets/base",
            "_view_module_version": "1.2.0",
            "_view_name": "LayoutView",
            "align_content": null,
            "align_items": null,
            "align_self": null,
            "border": null,
            "bottom": null,
            "display": null,
            "flex": null,
            "flex_flow": null,
            "grid_area": null,
            "grid_auto_columns": null,
            "grid_auto_flow": null,
            "grid_auto_rows": null,
            "grid_column": null,
            "grid_gap": null,
            "grid_row": null,
            "grid_template_areas": null,
            "grid_template_columns": null,
            "grid_template_rows": null,
            "height": null,
            "justify_content": null,
            "justify_items": null,
            "left": null,
            "margin": null,
            "max_height": null,
            "max_width": null,
            "min_height": null,
            "min_width": null,
            "object_fit": null,
            "object_position": null,
            "order": null,
            "overflow": null,
            "overflow_x": null,
            "overflow_y": null,
            "padding": null,
            "right": null,
            "top": null,
            "visibility": "hidden",
            "width": null
          }
        },
        "0d0204867c34486396768db5e6a1938e": {
          "model_module": "@jupyter-widgets/base",
          "model_name": "LayoutModel",
          "model_module_version": "1.2.0",
          "state": {
            "_model_module": "@jupyter-widgets/base",
            "_model_module_version": "1.2.0",
            "_model_name": "LayoutModel",
            "_view_count": null,
            "_view_module": "@jupyter-widgets/base",
            "_view_module_version": "1.2.0",
            "_view_name": "LayoutView",
            "align_content": null,
            "align_items": null,
            "align_self": null,
            "border": null,
            "bottom": null,
            "display": null,
            "flex": null,
            "flex_flow": null,
            "grid_area": null,
            "grid_auto_columns": null,
            "grid_auto_flow": null,
            "grid_auto_rows": null,
            "grid_column": null,
            "grid_gap": null,
            "grid_row": null,
            "grid_template_areas": null,
            "grid_template_columns": null,
            "grid_template_rows": null,
            "height": null,
            "justify_content": null,
            "justify_items": null,
            "left": null,
            "margin": null,
            "max_height": null,
            "max_width": null,
            "min_height": null,
            "min_width": null,
            "object_fit": null,
            "object_position": null,
            "order": null,
            "overflow": null,
            "overflow_x": null,
            "overflow_y": null,
            "padding": null,
            "right": null,
            "top": null,
            "visibility": null,
            "width": null
          }
        },
        "e6b5abb7ad41498c9d53a7df8b1b6562": {
          "model_module": "@jupyter-widgets/controls",
          "model_name": "DescriptionStyleModel",
          "model_module_version": "1.5.0",
          "state": {
            "_model_module": "@jupyter-widgets/controls",
            "_model_module_version": "1.5.0",
            "_model_name": "DescriptionStyleModel",
            "_view_count": null,
            "_view_module": "@jupyter-widgets/base",
            "_view_module_version": "1.2.0",
            "_view_name": "StyleView",
            "description_width": ""
          }
        },
        "d803aa82d4014eacb590579458bb4cee": {
          "model_module": "@jupyter-widgets/base",
          "model_name": "LayoutModel",
          "model_module_version": "1.2.0",
          "state": {
            "_model_module": "@jupyter-widgets/base",
            "_model_module_version": "1.2.0",
            "_model_name": "LayoutModel",
            "_view_count": null,
            "_view_module": "@jupyter-widgets/base",
            "_view_module_version": "1.2.0",
            "_view_name": "LayoutView",
            "align_content": null,
            "align_items": null,
            "align_self": null,
            "border": null,
            "bottom": null,
            "display": null,
            "flex": null,
            "flex_flow": null,
            "grid_area": null,
            "grid_auto_columns": null,
            "grid_auto_flow": null,
            "grid_auto_rows": null,
            "grid_column": null,
            "grid_gap": null,
            "grid_row": null,
            "grid_template_areas": null,
            "grid_template_columns": null,
            "grid_template_rows": null,
            "height": null,
            "justify_content": null,
            "justify_items": null,
            "left": null,
            "margin": null,
            "max_height": null,
            "max_width": null,
            "min_height": null,
            "min_width": null,
            "object_fit": null,
            "object_position": null,
            "order": null,
            "overflow": null,
            "overflow_x": null,
            "overflow_y": null,
            "padding": null,
            "right": null,
            "top": null,
            "visibility": null,
            "width": null
          }
        },
        "96e0544c780444b78251f1cde21a7a4f": {
          "model_module": "@jupyter-widgets/controls",
          "model_name": "ProgressStyleModel",
          "model_module_version": "1.5.0",
          "state": {
            "_model_module": "@jupyter-widgets/controls",
            "_model_module_version": "1.5.0",
            "_model_name": "ProgressStyleModel",
            "_view_count": null,
            "_view_module": "@jupyter-widgets/base",
            "_view_module_version": "1.2.0",
            "_view_name": "StyleView",
            "bar_color": null,
            "description_width": ""
          }
        },
        "12b0a38fa4d9476589cfdccb5912aa75": {
          "model_module": "@jupyter-widgets/base",
          "model_name": "LayoutModel",
          "model_module_version": "1.2.0",
          "state": {
            "_model_module": "@jupyter-widgets/base",
            "_model_module_version": "1.2.0",
            "_model_name": "LayoutModel",
            "_view_count": null,
            "_view_module": "@jupyter-widgets/base",
            "_view_module_version": "1.2.0",
            "_view_name": "LayoutView",
            "align_content": null,
            "align_items": null,
            "align_self": null,
            "border": null,
            "bottom": null,
            "display": null,
            "flex": null,
            "flex_flow": null,
            "grid_area": null,
            "grid_auto_columns": null,
            "grid_auto_flow": null,
            "grid_auto_rows": null,
            "grid_column": null,
            "grid_gap": null,
            "grid_row": null,
            "grid_template_areas": null,
            "grid_template_columns": null,
            "grid_template_rows": null,
            "height": null,
            "justify_content": null,
            "justify_items": null,
            "left": null,
            "margin": null,
            "max_height": null,
            "max_width": null,
            "min_height": null,
            "min_width": null,
            "object_fit": null,
            "object_position": null,
            "order": null,
            "overflow": null,
            "overflow_x": null,
            "overflow_y": null,
            "padding": null,
            "right": null,
            "top": null,
            "visibility": null,
            "width": null
          }
        },
        "a6fb9f55ec5b4b09a34e1ef5f58097c2": {
          "model_module": "@jupyter-widgets/controls",
          "model_name": "DescriptionStyleModel",
          "model_module_version": "1.5.0",
          "state": {
            "_model_module": "@jupyter-widgets/controls",
            "_model_module_version": "1.5.0",
            "_model_name": "DescriptionStyleModel",
            "_view_count": null,
            "_view_module": "@jupyter-widgets/base",
            "_view_module_version": "1.2.0",
            "_view_name": "StyleView",
            "description_width": ""
          }
        }
      }
    }
  },
  "cells": [
    {
      "cell_type": "markdown",
      "metadata": {
        "id": "view-in-github",
        "colab_type": "text"
      },
      "source": [
        "<a href=\"https://colab.research.google.com/github/SebastianBelmonte01/AndroidApp_Puzzle/blob/main/BelmonteSebastian_Desafio1.ipynb\" target=\"_parent\"><img src=\"https://colab.research.google.com/assets/colab-badge.svg\" alt=\"Open In Colab\"/></a>"
      ]
    },
    {
      "cell_type": "markdown",
      "metadata": {
        "id": "bvi9esYmPnqS"
      },
      "source": [
        "# Colorectal histology dataset with LeNet 5"
      ]
    },
    {
      "cell_type": "markdown",
      "metadata": {
        "id": "cK2eUfISAzJG"
      },
      "source": [
        "# Preview: Neural Network examples with `tf.keras`\n",
        "\n",
        "- `tf.keras` Software (http://keras.io/);\n",
        "\n",
        "- Visual example of LeNet-5 (http://yann.lecun.com/exdb/lenet/) using MNIST digits dataset;\n",
        "\n",
        "- Examples with common neural network topologies (https://machinelearningmastery.com/tensorflow-tutorial-deep-learning-with-tf-keras/)."
      ]
    },
    {
      "cell_type": "markdown",
      "metadata": {
        "id": "2YjpMzv7wkQk"
      },
      "source": [
        "## Colorectal histology\n",
        "\n",
        "Methods to diagnose colorectal using histology images (<https://zenodo.org/record/53169#.XGZemKwzbmG>, <https://www.tensorflow.org/datasets/catalog/colorectal_histology>)\n",
        "\n",
        "In this case, the purpose is to classify the type of histology in a given image in the following categories:\n",
        "\n",
        "- 0: TUMOR\n",
        "- 1: STROMA\n",
        "- 2: COMPLEX\n",
        "- 3: LYMPHO\n",
        "- 4: DEBRIS\n",
        "- 5: MUCOSA\n",
        "- 6: ADIPOSE\n",
        "- 7: EMPTY"
      ]
    },
    {
      "cell_type": "markdown",
      "metadata": {
        "id": "TsFbo_PWPnqY"
      },
      "source": [
        "## Local instalation (option 1)"
      ]
    },
    {
      "cell_type": "markdown",
      "metadata": {
        "id": "WFcsKw4yRFW9"
      },
      "source": [
        "Install the following Python packages to run this notebook"
      ]
    },
    {
      "cell_type": "markdown",
      "metadata": {
        "id": "wV8FPBy_Pnqb"
      },
      "source": [
        "`pip install pip -U`\n",
        "\n",
        "`pip install tensorflow jupyter`"
      ]
    },
    {
      "cell_type": "markdown",
      "metadata": {
        "id": "gwdcOnWzJoKZ"
      },
      "source": [
        "## Google Colab (option 2)"
      ]
    },
    {
      "cell_type": "markdown",
      "metadata": {
        "id": "VxbyP9eiR4R7"
      },
      "source": [
        "[Google Colab](https://colab.research.google.com/) is a research project created to help disseminate machine learning education and research. It's a `Jupyter notebook` environment that requires no setup to use and runs entirely in the cloud.\n",
        "\n",
        "Colaboratory notebooks are stored in [Google Drive](https://drive.google.com) and can be shared just as you would with Google Docs or Sheets. Colaboratory is free to use.\n",
        "\n",
        "For more information, see our [FAQ](https://research.google.com/colaboratory/faq.html)."
      ]
    },
    {
      "cell_type": "markdown",
      "metadata": {
        "id": "e9zCYoYWQuh9"
      },
      "source": [
        "### How install extra packages\n",
        "Google Colab installs a series of basic packages if we need any additional package just install it."
      ]
    },
    {
      "cell_type": "code",
      "metadata": {
        "id": "U02xLDY7JuI6"
      },
      "source": [
        "#!pip install scikit-learn -U\n",
        "\n",
        "#Strtifiedkfold "
      ],
      "execution_count": null,
      "outputs": []
    },
    {
      "cell_type": "markdown",
      "metadata": {
        "id": "S4DpauQ1Pnqg"
      },
      "source": [
        "## Import packages"
      ]
    },
    {
      "cell_type": "code",
      "metadata": {
        "id": "ja_tpjokPnqs"
      },
      "source": [
        "import matplotlib.pyplot as plt\n",
        "import numpy as np\n",
        "import pandas as pd\n",
        "\n",
        "import sklearn\n",
        "from sklearn.model_selection import train_test_split\n",
        "from sklearn import metrics\n",
        "\n",
        "import tensorflow as tf\n",
        "import tensorflow_datasets as tfds\n",
        "\n",
        "from tensorflow import keras\n",
        "from tensorflow.keras.preprocessing.image import array_to_img, img_to_array, load_img\n",
        "from tensorflow.keras.models import Sequential\n",
        "from tensorflow.keras import layers\n",
        "\n",
        "from sklearn.model_selection import StratifiedKFold"
      ],
      "execution_count": null,
      "outputs": []
    },
    {
      "cell_type": "markdown",
      "metadata": {
        "id": "_DCGtMSlPnq6"
      },
      "source": [
        "## Define global constants"
      ]
    },
    {
      "cell_type": "markdown",
      "metadata": {
        "id": "ceHkws-APnq8"
      },
      "source": [
        "Lets start with a few epochs to test learning network parameters"
      ]
    },
    {
      "cell_type": "code",
      "metadata": {
        "id": "74KODoafPnq-"
      },
      "source": [
        "batch_size = 32 #tamaño del conjunto cada cuantos se deben mirar para despues actualizar los pesos\n",
        "nb_classes = 2  #or 8\n",
        "epochs = 25\n",
        "\n",
        "# Scaling input image to theses dimensions\n",
        "img_rows, img_cols = 32, 32"
      ],
      "execution_count": null,
      "outputs": []
    },
    {
      "cell_type": "markdown",
      "metadata": {
        "id": "2EhdbXatPnrF"
      },
      "source": [
        "## Load image database"
      ]
    },
    {
      "cell_type": "code",
      "metadata": {
        "id": "gsgsbhBUPnrH"
      },
      "source": [
        "def format_example(image):\n",
        "    image = tf.cast(image, tf.float32)\n",
        "    # Normalize the pixel values\n",
        "    image = image / 255.0\n",
        "    # Resize the image\n",
        "    image = tf.image.resize(image, (img_rows, img_cols))\n",
        "    return image\n",
        "\n",
        "\n",
        "def load_data(name=\"colorectal_histology\"):\n",
        "  train_ds = tfds.load(name, split=tfds.Split.TRAIN, batch_size=-1)\n",
        "  train_ds['image'] = tf.map_fn(format_example, train_ds['image'], dtype=tf.float32)\n",
        "  numpy_ds = tfds.as_numpy(train_ds)\n",
        "  X, y = numpy_ds['image'], numpy_ds['label']\n",
        "\n",
        "  return np.array(X), np.array(y)"
      ],
      "execution_count": null,
      "outputs": []
    },
    {
      "cell_type": "markdown",
      "metadata": {
        "id": "13d8a5rEPnrR"
      },
      "source": [
        "## Plot images"
      ]
    },
    {
      "cell_type": "code",
      "metadata": {
        "id": "ewe7m5EdPnrS"
      },
      "source": [
        "def plot_symbols(X,y,n=15):\n",
        "    index = np.random.randint(len(y), size=n)\n",
        "    plt.figure(figsize=(25, 2))\n",
        "    for i in np.arange(n):\n",
        "        ax = plt.subplot(1,n,i+1)\n",
        "        plt.imshow(X[index[i],:,:,:])\n",
        "        plt.gray()\n",
        "        ax.set_title(f'{y[index[i]]}-{index[i]}')\n",
        "        ax.get_xaxis().set_visible(False)\n",
        "        ax.get_yaxis().set_visible(False)\n",
        "    plt.show()"
      ],
      "execution_count": null,
      "outputs": []
    },
    {
      "cell_type": "markdown",
      "metadata": {
        "id": "Vv_MQFlAPnra"
      },
      "source": [
        "## Build LeNet5 structure\n",
        "\n",
        "<center><img src=\"https://www.dlsi.ua.es/~juanra/UA/curso_verano_DL/images/LeNet5.jpg\"></center>"
      ]
    },
    {
      "cell_type": "code",
      "metadata": {
        "id": "YDUlivhoPnrd"
      },
      "source": [
        "#\n",
        "# Build an ANN structure - LeNet5\n",
        "#\n",
        "\n",
        "def cnn_model():\n",
        "    #\n",
        "    # Neural Network Structure\n",
        "    #\n",
        "    \n",
        "    model = Sequential()\n",
        "    \n",
        "    model.add(layers.Conv2D(6, (5, 5)))\n",
        "    #model.add(layers.Activation(\"relu\"))\n",
        "    model.add(layers.Activation(\"sigmoid\"))\n",
        "    model.add(layers.MaxPooling2D(pool_size=(2, 2)))\n",
        "    \n",
        "    model.add(layers.Conv2D(16, (5, 5)))\n",
        "    #model.add(layers.Activation(\"relu\"))\n",
        "    model.add(layers.Activation(\"sigmoid\"))\n",
        "    model.add(layers.MaxPooling2D(pool_size=(2, 2)))\n",
        "        \n",
        "    model.add(layers.Flatten())\n",
        "    \n",
        "    model.add(layers.Dense(120))\n",
        "    #model.add(layers.Activation(\"relu\"))\n",
        "    model.add(layers.Activation(\"sigmoid\"))\n",
        "\n",
        "    model.add(layers.Dense(84))\n",
        "    #model.add(layers.Activation(\"relu\"))\n",
        "    model.add(layers.Activation(\"sigmoid\"))\n",
        "    \n",
        "    model.add(layers.Dense(nb_classes))\n",
        "    #Tiene que ser la ultima porque es la que potencia la salida\n",
        "    model.add(layers.Activation('softmax'))\n",
        "\n",
        "    return model"
      ],
      "execution_count": null,
      "outputs": []
    },
    {
      "cell_type": "markdown",
      "source": [
        "## **Models Implemented by Sebastian Belmonte**\n",
        "\n",
        "---\n",
        "For image classification we are going to usea a convolutional neural network where it has convolutions (hidden layers, filters, etc), pooling where it reduces data in small segments."
      ],
      "metadata": {
        "id": "YBXrJ_fn-kBl"
      }
    },
    {
      "cell_type": "code",
      "source": [
        "def cnn_model_2d():\n",
        "  model = tf.keras.models.Sequential([\n",
        "      \n",
        "      #first layer\n",
        "      #32 different Filters, \n",
        "      tf.keras.layers.Conv2D(\n",
        "          32, (5, 5), activation =\"relu\", input_shape=(32, 32, 3)\n",
        "      ),\n",
        "\n",
        "      #You see 2x2 images and extract the max value\n",
        "      tf.keras.layers.MaxPooling2D(pool_size=(2,2)),\n",
        "\n",
        "      tf.keras.layers.Flatten(), \n",
        "\n",
        "      #Addind hidden layers\n",
        "      tf.keras.layers.Dense(128, activation=\"relu\"),\n",
        "      tf.keras.layers.Dropout(0.5),\n",
        "\n",
        "      #Adding an output for all 8 cancer types\n",
        "      #Softmax probability distribution\n",
        "      #Output Layer\n",
        "      tf.keras.layers.Dense(2, activation=\"softmax\")\n",
        "\n",
        "  ])\n",
        "  return model"
      ],
      "metadata": {
        "id": "eTlzMyO8_Bm7"
      },
      "execution_count": null,
      "outputs": []
    },
    {
      "cell_type": "markdown",
      "metadata": {
        "id": "2KVM-9GgPnrk"
      },
      "source": [
        "## Start to run the program"
      ]
    },
    {
      "cell_type": "markdown",
      "metadata": {
        "id": "2SeSisCUPnrm"
      },
      "source": [
        "### Load data"
      ]
    },
    {
      "cell_type": "code",
      "metadata": {
        "id": "IIAyRQwYPnrq",
        "colab": {
          "base_uri": "https://localhost:8080/",
          "height": 222,
          "referenced_widgets": [
            "6c7c92925baa403ba59a254a3b44040b",
            "a36bd24734c64158a92f7322a9667488",
            "ec2ee7e6a55f46598508c1816e84e605",
            "b77f535341544badaa2be1cfc072534f",
            "0fa6c8b9b09b4ea58cb4cec9a3eef828",
            "9ffc6b4ff2f54e4b8898ab8cabab9105",
            "82bdd918bf33482fb961ce1d07434b57",
            "e60063866be04091b3d5a1df13a9f00d",
            "0db697cfbb1f4af780a9646e79463aa4",
            "aa223f9a96594a7da5c63bbc068075a9",
            "714b8697c2334e17b4b814f77287b91d",
            "fcdfe4e3aa2a47e7ab139e32e6466e4e",
            "c2b95e8206584b04985da5453a6826b6",
            "0a3e2b340a5044978b30876bbe20b922",
            "de5032b639b44dd3b5ce532950e07511",
            "3f39a0b3c8ba4112af47bad642ef4070",
            "ae90f8bb1256411696eab5e7fe7fe7a6",
            "851bd60778fb4406a0ba1da31eee691f",
            "222804245cd249a8b122dc8d0a7d5f91",
            "e0120a9b3b5d40279a641e5c7fb3d3d3",
            "a59f259eccab4eef83b46b8bdd73e37c",
            "1f59d887ccad4ad38b0b6d8f87b27477",
            "67c13e68ee0d47cba8f6575d1de86951",
            "07f545d5793047f3a2de447a60a3c15a",
            "7e977a08b98142fb8442a1fb9a0b5975",
            "b4e14bc79e6940e28b00a964b58b3161",
            "37d48f70082748e1a55f7de1657a22d8",
            "31c3c76fa90a49378ac053586ae7494f",
            "0bda46b5744a4a789bc71ad15b70bacb",
            "6ba7550b9cd8492eb6559ce1f32d766e",
            "321d83119ab6490f8ff655ad3b78e375",
            "8865d3b6847a4120bf3b32aa36c6b3e0",
            "e176ace8be284c438dc35fe1c67934bb",
            "2dab7d312d4541758faa2edddd574244",
            "5becd5fd03f04ddab4a92fdd2094b87d",
            "bead11c8000147959441090817657bca",
            "486416f4b85647ffb0f3794f5891e0b8",
            "8dda48eb46244f1eb81bc432d4036eec",
            "22395e216732448bb22354390784e530",
            "48fa595a1c16475dbed89c1eb45d3d78",
            "bc84a47d6fb9470aa7346b8b20e69e14",
            "210f169b53564deba53d7e29ff53779c",
            "3de8b0862af74e5a9afe1f1fdd63b587",
            "ba470ae787504038b95befcaab6e5d0b",
            "8a44934abba546869de9c57bb227fcb2",
            "a1bd0e4b15a34435a9f49533fe5d73d6",
            "f9894f87ba0947b0987eaddcbe18f7af",
            "f835820d76874891b1e61e14881f6927",
            "931e70fbd5cd4726bb0e05a67d3f879b",
            "c45cd405e17643779a479d1c4a2458a7",
            "ef8fe076ee0c42049c84e66127f27833",
            "3aac7e5f47d84240b12b8b0c9af11746",
            "a9f623712cf6442094c0d5d5c7107c3c",
            "dda86dc180f34ec8bb291c3b249d4be6",
            "85bb09f5c8ea490db6adeafa901946c7",
            "c22478c2ee724f429898f6c91c8ee058",
            "edd20ec347a54977a87c5b840a5133fe",
            "bc2920f8b6d04112a6a35efb9060ffd2",
            "9b9c3c2df41a45a9a883739480793550",
            "9d2ba51beecf4f018217ff576c2ef455",
            "0d0204867c34486396768db5e6a1938e",
            "e6b5abb7ad41498c9d53a7df8b1b6562",
            "d803aa82d4014eacb590579458bb4cee",
            "96e0544c780444b78251f1cde21a7a4f",
            "12b0a38fa4d9476589cfdccb5912aa75",
            "a6fb9f55ec5b4b09a34e1ef5f58097c2"
          ]
        },
        "outputId": "4ac5973c-438c-4c14-d53d-c2d63810495d"
      },
      "source": [
        "##################################################################################\n",
        "# Main program\n",
        "\n",
        "X, y = load_data()\n",
        "\n",
        "print(X.shape, 'train samples')\n",
        "print(img_rows,'x', img_cols, 'image size')\n",
        "print(epochs,'epochs')"
      ],
      "execution_count": null,
      "outputs": [
        {
          "output_type": "stream",
          "name": "stdout",
          "text": [
            "\u001b[1mDownloading and preparing dataset 246.14 MiB (download: 246.14 MiB, generated: Unknown size, total: 246.14 MiB) to ~/tensorflow_datasets/colorectal_histology/2.0.0...\u001b[0m\n"
          ]
        },
        {
          "output_type": "display_data",
          "data": {
            "text/plain": [
              "Dl Completed...: 0 url [00:00, ? url/s]"
            ],
            "application/vnd.jupyter.widget-view+json": {
              "version_major": 2,
              "version_minor": 0,
              "model_id": "6c7c92925baa403ba59a254a3b44040b"
            }
          },
          "metadata": {}
        },
        {
          "output_type": "display_data",
          "data": {
            "text/plain": [
              "Dl Size...: 0 MiB [00:00, ? MiB/s]"
            ],
            "application/vnd.jupyter.widget-view+json": {
              "version_major": 2,
              "version_minor": 0,
              "model_id": "fcdfe4e3aa2a47e7ab139e32e6466e4e"
            }
          },
          "metadata": {}
        },
        {
          "output_type": "display_data",
          "data": {
            "text/plain": [
              "Extraction completed...: 0 file [00:00, ? file/s]"
            ],
            "application/vnd.jupyter.widget-view+json": {
              "version_major": 2,
              "version_minor": 0,
              "model_id": "67c13e68ee0d47cba8f6575d1de86951"
            }
          },
          "metadata": {}
        },
        {
          "output_type": "display_data",
          "data": {
            "text/plain": [
              "Generating splits...:   0%|          | 0/1 [00:00<?, ? splits/s]"
            ],
            "application/vnd.jupyter.widget-view+json": {
              "version_major": 2,
              "version_minor": 0,
              "model_id": "2dab7d312d4541758faa2edddd574244"
            }
          },
          "metadata": {}
        },
        {
          "output_type": "display_data",
          "data": {
            "text/plain": [
              "Generating train examples...:   0%|          | 0/5000 [00:00<?, ? examples/s]"
            ],
            "application/vnd.jupyter.widget-view+json": {
              "version_major": 2,
              "version_minor": 0,
              "model_id": "8a44934abba546869de9c57bb227fcb2"
            }
          },
          "metadata": {}
        },
        {
          "output_type": "display_data",
          "data": {
            "text/plain": [
              "Shuffling ~/tensorflow_datasets/colorectal_histology/2.0.0.incomplete43OPVV/colorectal_histology-train.tfrecor…"
            ],
            "application/vnd.jupyter.widget-view+json": {
              "version_major": 2,
              "version_minor": 0,
              "model_id": "c22478c2ee724f429898f6c91c8ee058"
            }
          },
          "metadata": {}
        },
        {
          "output_type": "stream",
          "name": "stdout",
          "text": [
            "\u001b[1mDataset colorectal_histology downloaded and prepared to ~/tensorflow_datasets/colorectal_histology/2.0.0. Subsequent calls will reuse this data.\u001b[0m\n",
            "(5000, 32, 32, 3) train samples\n",
            "32 x 32 image size\n",
            "25 epochs\n"
          ]
        }
      ]
    },
    {
      "cell_type": "markdown",
      "metadata": {
        "id": "KmD0ASx_Exg8"
      },
      "source": [
        "Only for binary classification. All number of classes greater than 0 will be set to 1."
      ]
    },
    {
      "cell_type": "code",
      "metadata": {
        "id": "3AyHsUIiEvOy"
      },
      "source": [
        "if nb_classes==2: #Quiere decir si hay dos clases\n",
        "  y[y>0] = 1 #Los que son otra cosa se les asigna el valor de uno"
      ],
      "execution_count": null,
      "outputs": []
    },
    {
      "cell_type": "markdown",
      "metadata": {
        "id": "3MAHMzTMPnrz"
      },
      "source": [
        "### Let to see examples of the dataset"
      ]
    },
    {
      "cell_type": "code",
      "metadata": {
        "id": "vXw4WQX0Pnr0",
        "colab": {
          "base_uri": "https://localhost:8080/",
          "height": 127
        },
        "outputId": "a73ddc4b-7da6-42e0-b610-3755eb56e9ad"
      },
      "source": [
        "plot_symbols(X, y, 15)"
      ],
      "execution_count": null,
      "outputs": [
        {
          "output_type": "display_data",
          "data": {
            "text/plain": [
              "<Figure size 1800x144 with 15 Axes>"
            ],
            "image/png": "[encoded data removed]"
          },
          "metadata": {
            "needs_background": "light"
          }
        }
      ]
    },
    {
      "cell_type": "markdown",
      "metadata": {
        "id": "VWnEwTeuivnm"
      },
      "source": [
        "## Number of examples per class"
      ]
    },
    {
      "cell_type": "code",
      "metadata": {
        "id": "gP1NhI1NiK_H",
        "colab": {
          "base_uri": "https://localhost:8080/",
          "height": 112
        },
        "outputId": "bcbc0a7d-a7c9-4c51-e6c2-d57ff67a7c02"
      },
      "source": [
        "pd.DataFrame({'ncount':pd.Series(y).value_counts(), '% ncount':pd.Series(y).value_counts(normalize=True)*100})"
      ],
      "execution_count": null,
      "outputs": [
        {
          "output_type": "execute_result",
          "data": {
            "text/plain": [
              "   ncount  % ncount\n",
              "1    4375      87.5\n",
              "0     625      12.5"
            ],
            "text/html": [
              "\n",
              "  <div id=\"df-7901e7cc-7e1c-4421-bdce-73881e980e34\">\n",
              "    <div class=\"colab-df-container\">\n",
              "      <div>\n",
              "<style scoped>\n",
              "    .dataframe tbody tr th:only-of-type {\n",
              "        vertical-align: middle;\n",
              "    }\n",
              "\n",
              "    .dataframe tbody tr th {\n",
              "        vertical-align: top;\n",
              "    }\n",
              "\n",
              "    .dataframe thead th {\n",
              "        text-align: right;\n",
              "    }\n",
              "</style>\n",
              "<table border=\"1\" class=\"dataframe\">\n",
              "  <thead>\n",
              "    <tr style=\"text-align: right;\">\n",
              "      <th></th>\n",
              "      <th>ncount</th>\n",
              "      <th>% ncount</th>\n",
              "    </tr>\n",
              "  </thead>\n",
              "  <tbody>\n",
              "    <tr>\n",
              "      <th>1</th>\n",
              "      <td>4375</td>\n",
              "      <td>87.5</td>\n",
              "    </tr>\n",
              "    <tr>\n",
              "      <th>0</th>\n",
              "      <td>625</td>\n",
              "      <td>12.5</td>\n",
              "    </tr>\n",
              "  </tbody>\n",
              "</table>\n",
              "</div>\n",
              "      <button class=\"colab-df-convert\" onclick=\"convertToInteractive('df-7901e7cc-7e1c-4421-bdce-73881e980e34')\"\n",
              "              title=\"Convert this dataframe to an interactive table.\"\n",
              "              style=\"display:none;\">\n",
              "        \n",
              "  <svg xmlns=\"http://www.w3.org/2000/svg\" height=\"24px\"viewBox=\"0 0 24 24\"\n",
              "       width=\"24px\">\n",
              "    <path d=\"M0 0h24v24H0V0z\" fill=\"none\"/>\n",
              "    <path d=\"M18.56 5.44l.94 2.06.94-2.06 2.06-.94-2.06-.94-.94-2.06-.94 2.06-2.06.94zm-11 1L8.5 8.5l.94-2.06 2.06-.94-2.06-.94L8.5 2.5l-.94 2.06-2.06.94zm10 10l.94 2.06.94-2.06 2.06-.94-2.06-.94-.94-2.06-.94 2.06-2.06.94z\"/><path d=\"M17.41 7.96l-1.37-1.37c-.4-.4-.92-.59-1.43-.59-.52 0-1.04.2-1.43.59L10.3 9.45l-7.72 7.72c-.78.78-.78 2.05 0 2.83L4 21.41c.39.39.9.59 1.41.59.51 0 1.02-.2 1.41-.59l7.78-7.78 2.81-2.81c.8-.78.8-2.07 0-2.86zM5.41 20L4 18.59l7.72-7.72 1.47 1.35L5.41 20z\"/>\n",
              "  </svg>\n",
              "      </button>\n",
              "      \n",
              "  <style>\n",
              "    .colab-df-container {\n",
              "      display:flex;\n",
              "      flex-wrap:wrap;\n",
              "      gap: 12px;\n",
              "    }\n",
              "\n",
              "    .colab-df-convert {\n",
              "      background-color: #E8F0FE;\n",
              "      border: none;\n",
              "      border-radius: 50%;\n",
              "      cursor: pointer;\n",
              "      display: none;\n",
              "      fill: #1967D2;\n",
              "      height: 32px;\n",
              "      padding: 0 0 0 0;\n",
              "      width: 32px;\n",
              "    }\n",
              "\n",
              "    .colab-df-convert:hover {\n",
              "      background-color: #E2EBFA;\n",
              "      box-shadow: 0px 1px 2px rgba(60, 64, 67, 0.3), 0px 1px 3px 1px rgba(60, 64, 67, 0.15);\n",
              "      fill: #174EA6;\n",
              "    }\n",
              "\n",
              "    [theme=dark] .colab-df-convert {\n",
              "      background-color: #3B4455;\n",
              "      fill: #D2E3FC;\n",
              "    }\n",
              "\n",
              "    [theme=dark] .colab-df-convert:hover {\n",
              "      background-color: #434B5C;\n",
              "      box-shadow: 0px 1px 3px 1px rgba(0, 0, 0, 0.15);\n",
              "      filter: drop-shadow(0px 1px 2px rgba(0, 0, 0, 0.3));\n",
              "      fill: #FFFFFF;\n",
              "    }\n",
              "  </style>\n",
              "\n",
              "      <script>\n",
              "        const buttonEl =\n",
              "          document.querySelector('#df-7901e7cc-7e1c-4421-bdce-73881e980e34 button.colab-df-convert');\n",
              "        buttonEl.style.display =\n",
              "          google.colab.kernel.accessAllowed ? 'block' : 'none';\n",
              "\n",
              "        async function convertToInteractive(key) {\n",
              "          const element = document.querySelector('#df-7901e7cc-7e1c-4421-bdce-73881e980e34');\n",
              "          const dataTable =\n",
              "            await google.colab.kernel.invokeFunction('convertToInteractive',\n",
              "                                                     [key], {});\n",
              "          if (!dataTable) return;\n",
              "\n",
              "          const docLinkHtml = 'Like what you see? Visit the ' +\n",
              "            '<a target=\"_blank\" href=https://colab.research.google.com/notebooks/data_table.ipynb>data table notebook</a>'\n",
              "            + ' to learn more about interactive tables.';\n",
              "          element.innerHTML = '';\n",
              "          dataTable['output_type'] = 'display_data';\n",
              "          await google.colab.output.renderOutput(dataTable, element);\n",
              "          const docLink = document.createElement('div');\n",
              "          docLink.innerHTML = docLinkHtml;\n",
              "          element.appendChild(docLink);\n",
              "        }\n",
              "      </script>\n",
              "    </div>\n",
              "  </div>\n",
              "  "
            ]
          },
          "metadata": {},
          "execution_count": 10
        }
      ]
    },
    {
      "cell_type": "markdown",
      "metadata": {
        "id": "2LhnXZVX2kDL"
      },
      "source": [
        "## Split examples in training/test sets"
      ]
    },
    {
      "cell_type": "markdown",
      "metadata": {
        "id": "aZFvc9PON2p5"
      },
      "source": [
        "This section is introductory to serve as a simple example. To test the model created in different situations, a 10 cross validation (10-CV) strategy should be used. "
      ]
    },
    {
      "cell_type": "code",
      "metadata": {
        "id": "shmtSL3f2cF0",
        "colab": {
          "base_uri": "https://localhost:8080/"
        },
        "outputId": "53c1b25e-aed3-4c30-d573-8f29e25f9b32"
      },
      "source": [
        "#X_train, X_test, y_train, y_test = train_test_split(X, y, test_size=0.25, random_state=42)\n",
        "\n",
        "#print(f'X_train {X_train.shape} X_test {X_test.shape}')\n",
        "#print(f'y_train {y_train.shape} y_test {y_test.shape}')\n",
        "\n",
        "skf = StratifiedKFold(n_splits=10, random_state=42, shuffle=True)\n",
        "skf.get_n_splits(X, y)\n",
        "print(skf)\n",
        "\n",
        "for train_index, test_index in skf.split(X, y):\n",
        "  #print(\"Train: \", train_index, \" Test: \", test_index)\n",
        "  X_train, X_test = X[train_index], X[test_index]\n",
        "  y_train, y_test = y[train_index], y[test_index]\n",
        "\n",
        "\n",
        "\n",
        "print(f'X_train {X_train.shape} X_test {X_test.shape}')\n",
        "print(f'y_train {y_train.shape} y_test {y_test.shape}')"
      ],
      "execution_count": null,
      "outputs": [
        {
          "output_type": "stream",
          "name": "stdout",
          "text": [
            "StratifiedKFold(n_splits=10, random_state=42, shuffle=True)\n",
            "X_train (4500, 32, 32, 3) X_test (500, 32, 32, 3)\n",
            "y_train (4500,) y_test (500,)\n"
          ]
        }
      ]
    },
    {
      "cell_type": "markdown",
      "metadata": {
        "id": "T-jVXmi8Pnr_"
      },
      "source": [
        "### Model and optimizers"
      ]
    },
    {
      "cell_type": "markdown",
      "metadata": {
        "id": "EPWbNuz_PnsE"
      },
      "source": [
        "Test [optimizer](https://keras.io/optimizers/) parameter with `sgd`, `adadelta` or `adam` values in order to check the final precision achieved."
      ]
    },
    {
      "cell_type": "markdown",
      "source": [
        "## **Class Model Compilation**\n",
        "\n"
      ],
      "metadata": {
        "id": "bU4NfTkMmWMq"
      }
    },
    {
      "cell_type": "code",
      "metadata": {
        "id": "ualqVMBOPnsG",
        "colab": {
          "base_uri": "https://localhost:8080/"
        },
        "outputId": "abae24b8-68d8-484b-c855-c76908249da0"
      },
      "source": [
        "#model = cnn_model()\n",
        "model = cnn_model_2d()\n",
        "\n",
        "model.compile(\n",
        "    loss='sparse_categorical_crossentropy',\n",
        "    optimizer='adam', \n",
        "    metrics=['accuracy']\n",
        ")\n",
        "\n",
        "#early_stopping = EarlyStopping(monitor='val_loss', patience=10)\n",
        "#model.fit(X_train, y_train, batch_size=batch_size, epochs=epochs, validation_split=0.1, verbose=2, callbacks=[early_stopping])\n",
        "model.fit(X_train, y_train, epochs=epochs, batch_size=batch_size, validation_split=0.1, verbose=2 )\n",
        "print(model.summary())"
      ],
      "execution_count": null,
      "outputs": [
        {
          "output_type": "stream",
          "name": "stdout",
          "text": [
            "Epoch 1/25\n",
            "127/127 - 1s - loss: 0.3031 - accuracy: 0.8768 - val_loss: 0.3032 - val_accuracy: 0.8533 - 932ms/epoch - 7ms/step\n",
            "Epoch 2/25\n",
            "127/127 - 0s - loss: 0.2610 - accuracy: 0.8859 - val_loss: 0.2809 - val_accuracy: 0.8422 - 429ms/epoch - 3ms/step\n",
            "Epoch 3/25\n",
            "127/127 - 0s - loss: 0.2179 - accuracy: 0.9030 - val_loss: 0.2860 - val_accuracy: 0.8600 - 399ms/epoch - 3ms/step\n",
            "Epoch 4/25\n",
            "127/127 - 0s - loss: 0.2052 - accuracy: 0.9089 - val_loss: 0.2022 - val_accuracy: 0.9178 - 408ms/epoch - 3ms/step\n",
            "Epoch 5/25\n",
            "127/127 - 0s - loss: 0.1770 - accuracy: 0.9274 - val_loss: 0.1777 - val_accuracy: 0.9378 - 432ms/epoch - 3ms/step\n",
            "Epoch 6/25\n",
            "127/127 - 0s - loss: 0.1544 - accuracy: 0.9353 - val_loss: 0.1538 - val_accuracy: 0.9422 - 402ms/epoch - 3ms/step\n",
            "Epoch 7/25\n",
            "127/127 - 0s - loss: 0.1431 - accuracy: 0.9440 - val_loss: 0.1704 - val_accuracy: 0.9200 - 408ms/epoch - 3ms/step\n",
            "Epoch 8/25\n",
            "127/127 - 0s - loss: 0.1313 - accuracy: 0.9506 - val_loss: 0.2079 - val_accuracy: 0.9022 - 435ms/epoch - 3ms/step\n",
            "Epoch 9/25\n",
            "127/127 - 0s - loss: 0.1285 - accuracy: 0.9491 - val_loss: 0.1792 - val_accuracy: 0.9267 - 398ms/epoch - 3ms/step\n",
            "Epoch 10/25\n",
            "127/127 - 0s - loss: 0.1099 - accuracy: 0.9607 - val_loss: 0.1585 - val_accuracy: 0.9400 - 432ms/epoch - 3ms/step\n",
            "Epoch 11/25\n",
            "127/127 - 0s - loss: 0.1096 - accuracy: 0.9585 - val_loss: 0.1658 - val_accuracy: 0.9356 - 411ms/epoch - 3ms/step\n",
            "Epoch 12/25\n",
            "127/127 - 0s - loss: 0.1049 - accuracy: 0.9578 - val_loss: 0.2010 - val_accuracy: 0.9289 - 428ms/epoch - 3ms/step\n",
            "Epoch 13/25\n",
            "127/127 - 0s - loss: 0.0947 - accuracy: 0.9644 - val_loss: 0.3411 - val_accuracy: 0.8733 - 434ms/epoch - 3ms/step\n",
            "Epoch 14/25\n",
            "127/127 - 0s - loss: 0.0946 - accuracy: 0.9654 - val_loss: 0.1742 - val_accuracy: 0.9356 - 394ms/epoch - 3ms/step\n",
            "Epoch 15/25\n",
            "127/127 - 0s - loss: 0.0786 - accuracy: 0.9731 - val_loss: 0.2722 - val_accuracy: 0.9111 - 430ms/epoch - 3ms/step\n",
            "Epoch 16/25\n",
            "127/127 - 0s - loss: 0.0648 - accuracy: 0.9775 - val_loss: 0.2421 - val_accuracy: 0.9267 - 438ms/epoch - 3ms/step\n",
            "Epoch 17/25\n",
            "127/127 - 0s - loss: 0.0813 - accuracy: 0.9721 - val_loss: 0.2124 - val_accuracy: 0.9333 - 433ms/epoch - 3ms/step\n",
            "Epoch 18/25\n",
            "127/127 - 0s - loss: 0.0630 - accuracy: 0.9793 - val_loss: 0.1899 - val_accuracy: 0.9378 - 397ms/epoch - 3ms/step\n",
            "Epoch 19/25\n",
            "127/127 - 0s - loss: 0.0527 - accuracy: 0.9820 - val_loss: 0.2067 - val_accuracy: 0.9378 - 394ms/epoch - 3ms/step\n",
            "Epoch 20/25\n",
            "127/127 - 0s - loss: 0.0434 - accuracy: 0.9817 - val_loss: 0.1789 - val_accuracy: 0.9444 - 440ms/epoch - 3ms/step\n",
            "Epoch 21/25\n",
            "127/127 - 0s - loss: 0.0433 - accuracy: 0.9872 - val_loss: 0.2513 - val_accuracy: 0.9356 - 415ms/epoch - 3ms/step\n",
            "Epoch 22/25\n",
            "127/127 - 0s - loss: 0.0469 - accuracy: 0.9864 - val_loss: 0.2149 - val_accuracy: 0.9378 - 404ms/epoch - 3ms/step\n",
            "Epoch 23/25\n",
            "127/127 - 0s - loss: 0.0380 - accuracy: 0.9881 - val_loss: 0.2992 - val_accuracy: 0.9200 - 407ms/epoch - 3ms/step\n",
            "Epoch 24/25\n",
            "127/127 - 0s - loss: 0.0340 - accuracy: 0.9884 - val_loss: 0.2051 - val_accuracy: 0.9400 - 392ms/epoch - 3ms/step\n",
            "Epoch 25/25\n",
            "127/127 - 0s - loss: 0.0325 - accuracy: 0.9899 - val_loss: 0.3388 - val_accuracy: 0.9178 - 403ms/epoch - 3ms/step\n",
            "Model: \"sequential_22\"\n",
            "_________________________________________________________________\n",
            " Layer (type)                Output Shape              Param #   \n",
            "=================================================================\n",
            " conv2d_22 (Conv2D)          (None, 28, 28, 32)        2432      \n",
            "                                                                 \n",
            " max_pooling2d_22 (MaxPoolin  (None, 14, 14, 32)       0         \n",
            " g2D)                                                            \n",
            "                                                                 \n",
            " flatten_22 (Flatten)        (None, 6272)              0         \n",
            "                                                                 \n",
            " dense_44 (Dense)            (None, 128)               802944    \n",
            "                                                                 \n",
            " dropout_22 (Dropout)        (None, 128)               0         \n",
            "                                                                 \n",
            " dense_45 (Dense)            (None, 2)                 258       \n",
            "                                                                 \n",
            "=================================================================\n",
            "Total params: 805,634\n",
            "Trainable params: 805,634\n",
            "Non-trainable params: 0\n",
            "_________________________________________________________________\n",
            "None\n"
          ]
        }
      ]
    },
    {
      "cell_type": "markdown",
      "source": [
        "## **First Model Compilation**\n",
        "\n",
        "\n"
      ],
      "metadata": {
        "id": "0KKmh8IsmnPP"
      }
    },
    {
      "cell_type": "code",
      "source": [
        "'''\n",
        "model = cnn_model_2d\n",
        "\n",
        "model.compile(\n",
        "    loss='categorical_crossentropy', #Changed Parameter\n",
        "    optimizer='adam', \n",
        "    metrics=['accuracy']\n",
        ")\n",
        "\n",
        "#early_stopping = EarlyStopping(monitor='val_loss', patience=10)\n",
        "model.fit(X_train, y_train, batch_size=batch_size, epochs=epochs, validation_split=0.1, verbose=2) #, callbacks=[early_stopping])\n",
        "\n",
        "print(model.summary())\n",
        "'''\n",
        "#Se pensó en utiizar una perdida de 'crossentropy sin embargo, usamos la que ya se tenia ya que selecciona solamente a uno en cabio crossentropy da toda una \n",
        "# gama de todas las posibles respuestas que puedan ser\n",
        "\n",
        "\n",
        "#FUNCION DE ACTIVACION\n",
        "# La función de activación utilizadas actualmente son las funciones de activación no lineares ya que ofrecen conexiones multiples \n",
        "# Softmax\n",
        "# Relu\n",
        "# Tangente Hiperbolica\n",
        "# Softmax\n",
        "\n",
        "#https://medium.com/@snaily16/what-why-and-which-activation-functions-b2bf748c0441"
      ],
      "metadata": {
        "id": "KZ8PRAhpm1_G"
      },
      "execution_count": null,
      "outputs": []
    },
    {
      "cell_type": "code",
      "metadata": {
        "id": "NBajky6WlKFC",
        "colab": {
          "base_uri": "https://localhost:8080/"
        },
        "outputId": "6cf8ae28-3767-4bb7-a95e-92f9e432db11"
      },
      "source": [
        "loss, acc = model.evaluate(X_test, y_test, batch_size=batch_size)\n",
        "print(f'loss: {loss:.2f} acc: {acc:.2f}')"
      ],
      "execution_count": null,
      "outputs": [
        {
          "output_type": "stream",
          "name": "stdout",
          "text": [
            "16/16 [==============================] - 0s 3ms/step - loss: 0.2172 - accuracy: 0.9400\n",
            "loss: 0.22 acc: 0.94\n"
          ]
        }
      ]
    },
    {
      "cell_type": "code",
      "metadata": {
        "id": "SXWItXig4RqX",
        "colab": {
          "base_uri": "https://localhost:8080/"
        },
        "outputId": "7c0029d7-d24d-4f13-ed14-18aa58ae1c21"
      },
      "source": [
        "# Output prediction for the first five X_test images\n",
        "model.predict(X_test[:5], batch_size=batch_size)"
      ],
      "execution_count": null,
      "outputs": [
        {
          "output_type": "stream",
          "name": "stdout",
          "text": [
            "1/1 [==============================] - 0s 57ms/step\n"
          ]
        },
        {
          "output_type": "execute_result",
          "data": {
            "text/plain": [
              "array([[9.6781650e-06, 9.9999034e-01],\n",
              "       [5.7223893e-08, 1.0000000e+00],\n",
              "       [9.5460296e-01, 4.5396987e-02],\n",
              "       [1.0519991e-06, 9.9999893e-01],\n",
              "       [2.8403438e-06, 9.9999714e-01]], dtype=float32)"
            ]
          },
          "metadata": {},
          "execution_count": 106
        }
      ]
    },
    {
      "cell_type": "markdown",
      "metadata": {
        "id": "615S0VAtkBA8"
      },
      "source": [
        "## Prediction"
      ]
    },
    {
      "cell_type": "markdown",
      "metadata": {
        "id": "aMbolJ6nPnsP"
      },
      "source": [
        "### Testing AUC result for two and multiple classes"
      ]
    },
    {
      "cell_type": "code",
      "source": [
        "y_scores = model.predict(X_test) # Confidence prediction per class y_pred = y_scores.argmax(axis=1) # Select classes with most confidence prediction\n",
        "\n",
        "if nb_classes == 2: print(f'AUC {metrics.roc_auc_score(y_test, np.round(y_scores[:,1],2)):.4f} ') \n",
        "else: print(f'AUC {metrics.roc_auc_score(y_test, y_scores, multi_class = \"ovr\"):.4f} ')"
      ],
      "metadata": {
        "colab": {
          "base_uri": "https://localhost:8080/"
        },
        "id": "d0XIiYzyz8nZ",
        "outputId": "5a895373-0dd6-4992-eea6-c4bcd8b4b7f0"
      },
      "execution_count": null,
      "outputs": [
        {
          "output_type": "stream",
          "name": "stdout",
          "text": [
            "16/16 [==============================] - 0s 2ms/step\n",
            "AUC 0.9516 \n"
          ]
        }
      ]
    },
    {
      "cell_type": "markdown",
      "metadata": {
        "id": "fnVJ29uU7Yk9"
      },
      "source": [
        "## More metrics about results"
      ]
    },
    {
      "cell_type": "markdown",
      "metadata": {
        "id": "TVfh_43Y6vCM"
      },
      "source": [
        "We can find more information about `precision`, `recall` and `f1` metrics in <https://en.wikipedia.org/wiki/Precision_and_recall>."
      ]
    },
    {
      "cell_type": "code",
      "metadata": {
        "id": "PNzMlYbEhaCE",
        "colab": {
          "base_uri": "https://localhost:8080/"
        },
        "outputId": "27560ab9-f15d-44ea-e426-350404d804e0"
      },
      "source": [
        "y_pred = y_scores.argmax(axis=1)\n",
        "print('Predictions', pd.Series(y_pred).value_counts(),'\\n')\n",
        "\n",
        "print('Confusion matrix')\n",
        "print(metrics.confusion_matrix(y_test,y_pred),'\\n')\n",
        "\n",
        "target_names = ['TUMOR', 'HEALTHY'] if nb_classes ==  2 else ['TUMOR','STROMA','COMPLEX','LYMPHO','DEBRIS','MUCOSA','ADIPOSE','EMPTY']\n",
        "\n",
        "print(metrics.classification_report(y_test, y_pred, target_names=target_names))"
      ],
      "execution_count": null,
      "outputs": [
        {
          "output_type": "stream",
          "name": "stdout",
          "text": [
            "Predictions 1    416\n",
            "0     84\n",
            "dtype: int64 \n",
            "\n",
            "Confusion matrix\n",
            "[[ 53  10]\n",
            " [ 31 406]] \n",
            "\n",
            "              precision    recall  f1-score   support\n",
            "\n",
            "       TUMOR       0.63      0.84      0.72        63\n",
            "     HEALTHY       0.98      0.93      0.95       437\n",
            "\n",
            "    accuracy                           0.92       500\n",
            "   macro avg       0.80      0.89      0.84       500\n",
            "weighted avg       0.93      0.92      0.92       500\n",
            "\n"
          ]
        }
      ]
    }
  ]
}